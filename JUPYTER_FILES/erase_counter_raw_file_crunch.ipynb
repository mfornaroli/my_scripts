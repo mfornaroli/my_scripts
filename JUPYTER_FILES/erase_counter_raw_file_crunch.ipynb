{
 "cells": [
  {
   "cell_type": "code",
   "execution_count": 1,
   "metadata": {},
   "outputs": [],
   "source": [
    "import pandas as pd\n",
    "df = pd.read_csv(r'U:\\engi\\datalogs\\emmc\\AMBYX\\PS8226\\J56X\\VM07519.WOSLC0001\\SN5105843_8_1\\SN5105843_8_1_ERASE_COUNT_BY_BLOCK.csv')\n",
    "df=df['slot_no;site_no;die_no;test_pos;test_name;block_no;user_value_1;user_value_2'].str.split(';', expand=True)\n",
    "raw_col_string = 'slot_no;site_no;die_no;test_pos;test_name;block_no;user_value_1;user_value_2'\n",
    "col_name_list = raw_col_string.split(';')\n",
    "col_name_dictionary={}\n",
    "for i in range(len(col_name_list)):\n",
    "    col_name_dictionary[i] = col_name_list[i]\n"
   ]
  },
  {
   "cell_type": "code",
   "execution_count": 2,
   "metadata": {},
   "outputs": [
    {
     "data": {
      "text/plain": [
       "{0: 'slot_no',\n",
       " 1: 'site_no',\n",
       " 2: 'die_no',\n",
       " 3: 'test_pos',\n",
       " 4: 'test_name',\n",
       " 5: 'block_no',\n",
       " 6: 'user_value_1',\n",
       " 7: 'user_value_2'}"
      ]
     },
     "execution_count": 2,
     "metadata": {},
     "output_type": "execute_result"
    }
   ],
   "source": [
    "col_name_dictionary"
   ]
  },
  {
   "cell_type": "code",
   "execution_count": 3,
   "metadata": {},
   "outputs": [
    {
     "data": {
      "text/html": [
       "<div>\n",
       "<style scoped>\n",
       "    .dataframe tbody tr th:only-of-type {\n",
       "        vertical-align: middle;\n",
       "    }\n",
       "\n",
       "    .dataframe tbody tr th {\n",
       "        vertical-align: top;\n",
       "    }\n",
       "\n",
       "    .dataframe thead th {\n",
       "        text-align: right;\n",
       "    }\n",
       "</style>\n",
       "<table border=\"1\" class=\"dataframe\">\n",
       "  <thead>\n",
       "    <tr style=\"text-align: right;\">\n",
       "      <th></th>\n",
       "      <th>slot_no</th>\n",
       "      <th>site_no</th>\n",
       "      <th>die_no</th>\n",
       "      <th>test_pos</th>\n",
       "      <th>test_name</th>\n",
       "      <th>block_no</th>\n",
       "      <th>user_value_1</th>\n",
       "      <th>user_value_2</th>\n",
       "    </tr>\n",
       "  </thead>\n",
       "  <tbody>\n",
       "    <tr>\n",
       "      <th>0</th>\n",
       "      <td>6</td>\n",
       "      <td>0</td>\n",
       "      <td>0</td>\n",
       "      <td>161</td>\n",
       "      <td>abp85::psbbinfo:1:BBeng</td>\n",
       "      <td>16</td>\n",
       "      <td>0</td>\n",
       "      <td>256</td>\n",
       "    </tr>\n",
       "    <tr>\n",
       "      <th>1</th>\n",
       "      <td>6</td>\n",
       "      <td>0</td>\n",
       "      <td>0</td>\n",
       "      <td>161</td>\n",
       "      <td>abp85::psbbinfo:1:BBeng</td>\n",
       "      <td>34</td>\n",
       "      <td>0</td>\n",
       "      <td>256</td>\n",
       "    </tr>\n",
       "    <tr>\n",
       "      <th>2</th>\n",
       "      <td>6</td>\n",
       "      <td>0</td>\n",
       "      <td>0</td>\n",
       "      <td>161</td>\n",
       "      <td>abp85::psbbinfo:1:BBeng</td>\n",
       "      <td>38</td>\n",
       "      <td>0</td>\n",
       "      <td>256</td>\n",
       "    </tr>\n",
       "    <tr>\n",
       "      <th>3</th>\n",
       "      <td>6</td>\n",
       "      <td>0</td>\n",
       "      <td>0</td>\n",
       "      <td>161</td>\n",
       "      <td>abp85::psbbinfo:1:BBeng</td>\n",
       "      <td>1010</td>\n",
       "      <td>0</td>\n",
       "      <td>256</td>\n",
       "    </tr>\n",
       "    <tr>\n",
       "      <th>4</th>\n",
       "      <td>6</td>\n",
       "      <td>0</td>\n",
       "      <td>0</td>\n",
       "      <td>161</td>\n",
       "      <td>abp85::psbbinfo:1:BBeng</td>\n",
       "      <td>1517</td>\n",
       "      <td>0</td>\n",
       "      <td>256</td>\n",
       "    </tr>\n",
       "  </tbody>\n",
       "</table>\n",
       "</div>"
      ],
      "text/plain": [
       "  slot_no site_no die_no test_pos                test_name block_no  \\\n",
       "0       6       0      0      161  abp85::psbbinfo:1:BBeng       16   \n",
       "1       6       0      0      161  abp85::psbbinfo:1:BBeng       34   \n",
       "2       6       0      0      161  abp85::psbbinfo:1:BBeng       38   \n",
       "3       6       0      0      161  abp85::psbbinfo:1:BBeng     1010   \n",
       "4       6       0      0      161  abp85::psbbinfo:1:BBeng     1517   \n",
       "\n",
       "  user_value_1 user_value_2  \n",
       "0            0          256  \n",
       "1            0          256  \n",
       "2            0          256  \n",
       "3            0          256  \n",
       "4            0          256  "
      ]
     },
     "execution_count": 3,
     "metadata": {},
     "output_type": "execute_result"
    }
   ],
   "source": [
    "df.rename(columns=col_name_dictionary, inplace=True)\n",
    "df.head()"
   ]
  },
  {
   "cell_type": "code",
   "execution_count": 56,
   "metadata": {},
   "outputs": [],
   "source": []
  },
  {
   "cell_type": "code",
   "execution_count": 57,
   "metadata": {},
   "outputs": [],
   "source": []
  },
  {
   "cell_type": "code",
   "execution_count": null,
   "metadata": {},
   "outputs": [],
   "source": []
  },
  {
   "cell_type": "code",
   "execution_count": null,
   "metadata": {},
   "outputs": [],
   "source": []
  },
  {
   "cell_type": "code",
   "execution_count": null,
   "metadata": {},
   "outputs": [],
   "source": []
  },
  {
   "cell_type": "code",
   "execution_count": null,
   "metadata": {},
   "outputs": [],
   "source": []
  },
  {
   "cell_type": "code",
   "execution_count": null,
   "metadata": {},
   "outputs": [],
   "source": []
  },
  {
   "cell_type": "code",
   "execution_count": null,
   "metadata": {},
   "outputs": [],
   "source": []
  }
 ],
 "metadata": {
  "kernelspec": {
   "display_name": "Python 3",
   "language": "python",
   "name": "python3"
  },
  "language_info": {
   "codemirror_mode": {
    "name": "ipython",
    "version": 3
   },
   "file_extension": ".py",
   "mimetype": "text/x-python",
   "name": "python",
   "nbconvert_exporter": "python",
   "pygments_lexer": "ipython3",
   "version": "3.7.0"
  }
 },
 "nbformat": 4,
 "nbformat_minor": 2
}
