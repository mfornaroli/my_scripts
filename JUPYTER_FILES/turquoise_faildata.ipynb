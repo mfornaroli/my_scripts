{
 "cells": [
  {
   "cell_type": "code",
   "execution_count": 11,
   "metadata": {},
   "outputs": [
    {
     "name": "stdout",
     "output_type": "stream",
     "text": [
      "(253, 14)\n",
      "J6-S4\n",
      "['abp85::cbemoltx8_H1PROJEC64ARES_64GB:1#']\n",
      "['BLK_TAG_TIMEOUT = 18' 'BLK_TAG_RD_DATAFAIL = 19']\n",
      "['BLK_TAG_TIMEOUT = 18' 'BLK_TAG_RD_DATAFAIL = 19']\n",
      "K12-S4\n",
      "['abp85::cbemcmd1:155#']\n",
      "['-']\n",
      "['-']\n",
      "F6-S7\n",
      "['abp85::cbemoltx8_writeOnlyH1PROJEC64ARES_64GB:77#']\n",
      "['BLK_TAG_RD_CRC = 20']\n",
      "['BLK_TAG_RD_CRC = 20']\n",
      "D6-S7\n",
      "['abp85::cbemoltx8_writeOnlyH1PROJEC64ARES_64GB:24#']\n",
      "['BLK_TAG_RD_RSP = 17']\n",
      "['BLK_TAG_RD_RSP = 17']\n",
      "C6-S7\n",
      "['abp85::cbemcmd1:155#']\n",
      "['-']\n",
      "['-']\n",
      "I10-S7\n",
      "['abp85::cbemoltx8_H1PROJEC64ARES_64GB:16#']\n",
      "['BLK_TAG_RD_RSP = 17' 'BLK_TAG_TIMEOUT = 18' 'BLK_TAG_RD_DATAFAIL = 19']\n",
      "['BLK_TAG_RD_RSP = 17' 'BLK_TAG_TIMEOUT = 18' 'BLK_TAG_RD_DATAFAIL = 19']\n",
      "F10-S7\n",
      "['abp85::cbemcmd2_fw:5#']\n",
      "['-']\n",
      "['-']\n",
      "C10-S7\n",
      "['abp85::cbemoltx8_writeOnlyH1PROJEC64ARES_64GB:37#']\n",
      "['BLK_TAG_RD_CRC = 20']\n",
      "['BLK_TAG_RD_CRC = 20']\n"
     ]
    }
   ],
   "source": [
    "import pandas as pd\n",
    "excel_path = r'\\\\micfs01-svmb\\SQRALib\\engi\\datalogs\\emmc\\AMBYX\\PS8231\\J39E\\VM05719.ELFR0001\\SN5122899_5_2\\SN5122899_5_2_fail_data.xlsx'\n",
    "excel_path = excel_path.replace('//micfs01-svmb/SQRALib/', 'U:/')\n",
    "\n",
    "df = pd.read_excel(excel_path)\n",
    "\n",
    "print(df.shape)\n",
    "df.head()\n",
    "for unit in df.position.unique():\n",
    "    print(unit)\n",
    "    print(df.loc[df['position']==unit, 'test_name'].unique())\n",
    "    print(df.loc[df['position']==unit, 'block code description'].unique())\n",
    "    fail_signature = df.loc[df['position']==unit, 'block code description'].unique()\n",
    "    print(fail_signature)\n",
    "#     print('block_no / LBA offsed: -> ',df.loc[df['position']==unit, 'block_no'].unique())\n",
    "#     print('LBA or UM details -> ',df.loc[df['position']==unit, 'LBA or UM details'].unique())\n",
    "#     print('bit/byte fail ->',df.loc[df['position']==unit, 'user_value_2'].unique())\n"
   ]
  },
  {
   "cell_type": "code",
   "execution_count": 12,
   "metadata": {},
   "outputs": [
    {
     "data": {
      "text/plain": [
       "(253, 14)"
      ]
     },
     "execution_count": 12,
     "metadata": {},
     "output_type": "execute_result"
    }
   ],
   "source": [
    "df.drop_duplicates(inplace=True)\n",
    "df.shape"
   ]
  },
  {
   "cell_type": "code",
   "execution_count": 13,
   "metadata": {},
   "outputs": [
    {
     "data": {
      "text/html": [
       "<div>\n",
       "<style scoped>\n",
       "    .dataframe tbody tr th:only-of-type {\n",
       "        vertical-align: middle;\n",
       "    }\n",
       "\n",
       "    .dataframe tbody tr th {\n",
       "        vertical-align: top;\n",
       "    }\n",
       "\n",
       "    .dataframe thead th {\n",
       "        text-align: right;\n",
       "    }\n",
       "</style>\n",
       "<table border=\"1\" class=\"dataframe\">\n",
       "  <thead>\n",
       "    <tr style=\"text-align: right;\">\n",
       "      <th></th>\n",
       "      <th>zone</th>\n",
       "      <th>site_no</th>\n",
       "      <th>test_pos</th>\n",
       "      <th>code_no</th>\n",
       "      <th>LBA or UM details</th>\n",
       "      <th>user_value_2</th>\n",
       "      <th>test_name</th>\n",
       "      <th>block_no</th>\n",
       "      <th>position</th>\n",
       "      <th>block code description</th>\n",
       "      <th>CMD</th>\n",
       "      <th>Unnamed: 11</th>\n",
       "      <th>Positions:</th>\n",
       "      <th>2</th>\n",
       "    </tr>\n",
       "  </thead>\n",
       "  <tbody>\n",
       "    <tr>\n",
       "      <th>0</th>\n",
       "      <td>A5</td>\n",
       "      <td>62</td>\n",
       "      <td>352</td>\n",
       "      <td>18.0</td>\n",
       "      <td>71540001.0</td>\n",
       "      <td>0.0</td>\n",
       "      <td>abp85::cbemoltx8_H1PROJEC64ARES_64GB:1#</td>\n",
       "      <td>0.0</td>\n",
       "      <td>J6-S4</td>\n",
       "      <td>BLK_TAG_TIMEOUT = 18</td>\n",
       "      <td>23 0x00000008;\\n18 0x0096A630;\\n23 0x00000008;...</td>\n",
       "      <td>NaN</td>\n",
       "      <td>Total:</td>\n",
       "      <td>150</td>\n",
       "    </tr>\n",
       "    <tr>\n",
       "      <th>1</th>\n",
       "      <td>A5</td>\n",
       "      <td>62</td>\n",
       "      <td>352</td>\n",
       "      <td>19.0</td>\n",
       "      <td>71540001.0</td>\n",
       "      <td>0.0</td>\n",
       "      <td>abp85::cbemoltx8_H1PROJEC64ARES_64GB:1#</td>\n",
       "      <td>0.0</td>\n",
       "      <td>J6-S4</td>\n",
       "      <td>BLK_TAG_RD_DATAFAIL = 19</td>\n",
       "      <td>NaN</td>\n",
       "      <td>NaN</td>\n",
       "      <td>Good:</td>\n",
       "      <td>142</td>\n",
       "    </tr>\n",
       "    <tr>\n",
       "      <th>2</th>\n",
       "      <td>A5</td>\n",
       "      <td>62</td>\n",
       "      <td>352</td>\n",
       "      <td>19.0</td>\n",
       "      <td>71540001.0</td>\n",
       "      <td>0.0</td>\n",
       "      <td>abp85::cbemoltx8_H1PROJEC64ARES_64GB:1#</td>\n",
       "      <td>1.0</td>\n",
       "      <td>J6-S4</td>\n",
       "      <td>BLK_TAG_RD_DATAFAIL = 19</td>\n",
       "      <td>NaN</td>\n",
       "      <td>NaN</td>\n",
       "      <td>Fail:</td>\n",
       "      <td>8</td>\n",
       "    </tr>\n",
       "    <tr>\n",
       "      <th>3</th>\n",
       "      <td>A5</td>\n",
       "      <td>62</td>\n",
       "      <td>352</td>\n",
       "      <td>19.0</td>\n",
       "      <td>71540001.0</td>\n",
       "      <td>0.0</td>\n",
       "      <td>abp85::cbemoltx8_H1PROJEC64ARES_64GB:1#</td>\n",
       "      <td>2.0</td>\n",
       "      <td>J6-S4</td>\n",
       "      <td>BLK_TAG_RD_DATAFAIL = 19</td>\n",
       "      <td>NaN</td>\n",
       "      <td>NaN</td>\n",
       "      <td>NaN</td>\n",
       "      <td>NaN</td>\n",
       "    </tr>\n",
       "    <tr>\n",
       "      <th>4</th>\n",
       "      <td>A5</td>\n",
       "      <td>62</td>\n",
       "      <td>352</td>\n",
       "      <td>19.0</td>\n",
       "      <td>71540001.0</td>\n",
       "      <td>0.0</td>\n",
       "      <td>abp85::cbemoltx8_H1PROJEC64ARES_64GB:1#</td>\n",
       "      <td>3.0</td>\n",
       "      <td>J6-S4</td>\n",
       "      <td>BLK_TAG_RD_DATAFAIL = 19</td>\n",
       "      <td>NaN</td>\n",
       "      <td>NaN</td>\n",
       "      <td>Zone</td>\n",
       "      <td>Id</td>\n",
       "    </tr>\n",
       "  </tbody>\n",
       "</table>\n",
       "</div>"
      ],
      "text/plain": [
       "  zone  site_no  test_pos  code_no  LBA or UM details  user_value_2  \\\n",
       "0   A5       62       352     18.0         71540001.0           0.0   \n",
       "1   A5       62       352     19.0         71540001.0           0.0   \n",
       "2   A5       62       352     19.0         71540001.0           0.0   \n",
       "3   A5       62       352     19.0         71540001.0           0.0   \n",
       "4   A5       62       352     19.0         71540001.0           0.0   \n",
       "\n",
       "                                 test_name  block_no position  \\\n",
       "0  abp85::cbemoltx8_H1PROJEC64ARES_64GB:1#       0.0    J6-S4   \n",
       "1  abp85::cbemoltx8_H1PROJEC64ARES_64GB:1#       0.0    J6-S4   \n",
       "2  abp85::cbemoltx8_H1PROJEC64ARES_64GB:1#       1.0    J6-S4   \n",
       "3  abp85::cbemoltx8_H1PROJEC64ARES_64GB:1#       2.0    J6-S4   \n",
       "4  abp85::cbemoltx8_H1PROJEC64ARES_64GB:1#       3.0    J6-S4   \n",
       "\n",
       "     block code description  \\\n",
       "0      BLK_TAG_TIMEOUT = 18   \n",
       "1  BLK_TAG_RD_DATAFAIL = 19   \n",
       "2  BLK_TAG_RD_DATAFAIL = 19   \n",
       "3  BLK_TAG_RD_DATAFAIL = 19   \n",
       "4  BLK_TAG_RD_DATAFAIL = 19   \n",
       "\n",
       "                                                 CMD  Unnamed: 11 Positions:   \\\n",
       "0  23 0x00000008;\\n18 0x0096A630;\\n23 0x00000008;...          NaN     Total:    \n",
       "1                                                NaN          NaN      Good:    \n",
       "2                                                NaN          NaN      Fail:    \n",
       "3                                                NaN          NaN         NaN   \n",
       "4                                                NaN          NaN        Zone   \n",
       "\n",
       "     2  \n",
       "0  150  \n",
       "1  142  \n",
       "2    8  \n",
       "3  NaN  \n",
       "4   Id  "
      ]
     },
     "execution_count": 13,
     "metadata": {},
     "output_type": "execute_result"
    }
   ],
   "source": [
    "df.head()"
   ]
  },
  {
   "cell_type": "code",
   "execution_count": 14,
   "metadata": {},
   "outputs": [
    {
     "data": {
      "text/plain": [
       "array(['J6-S4', 'K12-S4', 'F6-S7', 'D6-S7', 'C6-S7', 'I10-S7', 'F10-S7',\n",
       "       'C10-S7'], dtype=object)"
      ]
     },
     "execution_count": 14,
     "metadata": {},
     "output_type": "execute_result"
    }
   ],
   "source": [
    "df.position.unique()"
   ]
  },
  {
   "cell_type": "code",
   "execution_count": 15,
   "metadata": {},
   "outputs": [
    {
     "data": {
      "text/plain": [
       "array(['BLK_TAG_TIMEOUT = 18', 'BLK_TAG_RD_DATAFAIL = 19', '-',\n",
       "       'BLK_TAG_RD_CRC = 20', 'BLK_TAG_RD_RSP = 17'], dtype=object)"
      ]
     },
     "execution_count": 15,
     "metadata": {},
     "output_type": "execute_result"
    }
   ],
   "source": [
    "df['block code description'].unique()"
   ]
  },
  {
   "cell_type": "code",
   "execution_count": null,
   "metadata": {},
   "outputs": [],
   "source": []
  }
 ],
 "metadata": {
  "kernelspec": {
   "display_name": "Python 3",
   "language": "python",
   "name": "python3"
  },
  "language_info": {
   "codemirror_mode": {
    "name": "ipython",
    "version": 3
   },
   "file_extension": ".py",
   "mimetype": "text/x-python",
   "name": "python",
   "nbconvert_exporter": "python",
   "pygments_lexer": "ipython3",
   "version": "3.7.0"
  }
 },
 "nbformat": 4,
 "nbformat_minor": 2
}
