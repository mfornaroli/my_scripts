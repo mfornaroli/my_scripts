{
 "cells": [
  {
   "cell_type": "code",
   "execution_count": 24,
   "metadata": {},
   "outputs": [],
   "source": [
    "class Employee:\n",
    "    pass"
   ]
  },
  {
   "cell_type": "code",
   "execution_count": 25,
   "metadata": {},
   "outputs": [
    {
     "data": {
      "text/plain": [
       "__main__.Employee"
      ]
     },
     "execution_count": 25,
     "metadata": {},
     "output_type": "execute_result"
    }
   ],
   "source": [
    "# class: blueprint for creating instances\n",
    "emp_1 = Employee()\n",
    "type(emp_1)"
   ]
  },
  {
   "cell_type": "code",
   "execution_count": 26,
   "metadata": {},
   "outputs": [],
   "source": [
    "class Employee:\n",
    "    \n",
    "    raise_amount = 1.04  # class variable, can be accessed via class or instance.\n",
    "    num_of_emps = 0   #increases everytime instance is created.\n",
    "    \n",
    "    def __init__(self, name, surname, pay):     # special method, self represents an instance of the class. runs every time we create instance.\n",
    "        self.name=name\n",
    "        self.surname=surname\n",
    "        self.pay=pay\n",
    "        self.email=name + '.' + surname + '@company.com'\n",
    "        Employee.num_of_emps += 1  #increases everytime instance is created. \n",
    "        \n",
    "    def fullname(self):    # each method within a class, automatically takes instance as first argument. we call it self (convention)\n",
    "        return '{} {}'.format(self.name, self.surname)\n",
    "    \n",
    "    def apply_raise(self):\n",
    "        self.pay=self.pay*self.raise_amount  #apply 4% raise. also Employee.raise_amount will work. but like this, we can change it for each instance\n",
    "     "
   ]
  },
  {
   "cell_type": "code",
   "execution_count": 27,
   "metadata": {},
   "outputs": [
    {
     "name": "stdout",
     "output_type": "stream",
     "text": [
      "michele.fornaroli@company.com\n",
      "michele fornaroli\n",
      "michele fornaroli\n",
      "30000\n"
     ]
    }
   ],
   "source": [
    "emp_1 = Employee('michele', 'fornaroli', 30000)\n",
    "print(emp_1.email)\n",
    "print(emp_1.fullname())   # parentesi: e' un metodo, non un attributo! il resto e' uguale\n",
    "print(Employee.fullname(emp_1))   # it's the same\n",
    "print(emp_1.pay)\n",
    "# emp_1.apply_raise()\n",
    "# print(emp_1.pay)"
   ]
  },
  {
   "cell_type": "code",
   "execution_count": 28,
   "metadata": {},
   "outputs": [
    {
     "name": "stdout",
     "output_type": "stream",
     "text": [
      "{'name': 'michele', 'surname': 'fornaroli', 'pay': 30000, 'email': 'michele.fornaroli@company.com'}\n",
      "\n",
      "\n",
      "{'__module__': '__main__', 'raise_amount': 1.04, 'num_of_emps': 1, '__init__': <function Employee.__init__ at 0x0000014BC7E4F8C8>, 'fullname': <function Employee.fullname at 0x0000014BC7E4FB70>, 'apply_raise': <function Employee.apply_raise at 0x0000014BC7E4F950>, '__dict__': <attribute '__dict__' of 'Employee' objects>, '__weakref__': <attribute '__weakref__' of 'Employee' objects>, '__doc__': None}\n"
     ]
    }
   ],
   "source": [
    "print(emp_1.__dict__)   # print namespace associated to the instance\n",
    "print('\\n')\n",
    "print(Employee.__dict__)"
   ]
  },
  {
   "cell_type": "code",
   "execution_count": 33,
   "metadata": {},
   "outputs": [],
   "source": [
    "Employee.raise_amount = 1.06 # we can change class variables like this... "
   ]
  },
  {
   "cell_type": "code",
   "execution_count": 34,
   "metadata": {},
   "outputs": [
    {
     "name": "stdout",
     "output_type": "stream",
     "text": [
      "1.06\n"
     ]
    }
   ],
   "source": [
    "print(Employee.raise_amount)"
   ]
  },
  {
   "cell_type": "code",
   "execution_count": 35,
   "metadata": {},
   "outputs": [
    {
     "name": "stdout",
     "output_type": "stream",
     "text": [
      "1\n",
      "2\n"
     ]
    }
   ],
   "source": [
    "emp_2 = Employee('mauro', 'gennaro', 100000)\n",
    "print(Employee.num_of_emps)\n",
    "emp_2 = Employee('luca', 'gennaro', 23000)\n",
    "print(Employee.num_of_emps)"
   ]
  },
  {
   "cell_type": "code",
   "execution_count": null,
   "metadata": {},
   "outputs": [],
   "source": []
  }
 ],
 "metadata": {
  "kernelspec": {
   "display_name": "Python 3",
   "language": "python",
   "name": "python3"
  },
  "language_info": {
   "codemirror_mode": {
    "name": "ipython",
    "version": 3
   },
   "file_extension": ".py",
   "mimetype": "text/x-python",
   "name": "python",
   "nbconvert_exporter": "python",
   "pygments_lexer": "ipython3",
   "version": "3.7.0"
  }
 },
 "nbformat": 4,
 "nbformat_minor": 2
}
