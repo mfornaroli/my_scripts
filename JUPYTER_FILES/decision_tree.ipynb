{
 "cells": [
  {
   "cell_type": "code",
   "execution_count": 8,
   "metadata": {},
   "outputs": [],
   "source": [
    "# toy dataset\n",
    "training_data = [\n",
    "    ['Green', 3, 'Apple'],\n",
    "    ['Yellow', 3, 'Apple'],\n",
    "    ['Red', 1, 'Grape'],\n",
    "    ['Red', 1, 'Grape'],\n",
    "    ['Yellow', 3, 'Lemon']]\n",
    "\n",
    "# use for testing, later:\n",
    "testing_data = [\n",
    "    ['Green', 3, 'Apple'],\n",
    "    ['Yellow', 4, 'Apple'],\n",
    "    ['Red', 2, 'Grape'],\n",
    "    ['Red', 1, 'Grape'],\n",
    "    ['Yellow', 3, 'Lemon']]"
   ]
  },
  {
   "cell_type": "code",
   "execution_count": 164,
   "metadata": {
    "scrolled": true
   },
   "outputs": [
    {
     "name": "stdout",
     "output_type": "stream",
     "text": [
      "[['Green', 3], ['Yellow', 3], ['Red', 1], ['Red', 1], ['Yellow', 3]]\n",
      "[['Apple'], ['Apple'], ['Grape'], ['Grape'], ['Lemon']]\n"
     ]
    }
   ],
   "source": [
    "data = []\n",
    "for i in training_data:\n",
    "    data.append(i[:2])\n",
    "labels = []\n",
    "for i in training_data:\n",
    "    labels.append(i[-1:])\n",
    "print(data)\n",
    "print(labels)\n"
   ]
  },
  {
   "cell_type": "code",
   "execution_count": 190,
   "metadata": {},
   "outputs": [
    {
     "name": "stdout",
     "output_type": "stream",
     "text": [
      "trattasi di stringa\n"
     ]
    }
   ],
   "source": [
    "# X_true, X_false, y_true, y_false = data_splitter(Data, labels, feature_to_split_on)\n",
    "\n",
    "feature_to_split_on = 'esempio'\n",
    "\n",
    "def data_splitter(data, labels, feature_to_split_on):\n",
    "    if 'int' in str(type(feature_to_split_on)):\n",
    "        print('la feature e\\' un numero intero')\n",
    "    elif 'str' in str(type(feature_to_split_on)):\n",
    "        print('trattasi di stringa')\n",
    "    else:\n",
    "        print(type(feature_to_split_on))\n",
    "data_splitter(data, labels, feature_to_split_on)    "
   ]
  },
  {
   "cell_type": "code",
   "execution_count": null,
   "metadata": {},
   "outputs": [],
   "source": []
  },
  {
   "cell_type": "code",
   "execution_count": 170,
   "metadata": {
    "scrolled": true
   },
   "outputs": [
    {
     "name": "stdout",
     "output_type": "stream",
     "text": [
      "trasformato in lista... ['Apple', 'Apple', 'Banana', 'Apple', 'Apple']\n",
      "abbiamo numero di label: -->  2\n",
      "analizziamo label 0\n",
      "Apple\n",
      "k = 1\n",
      "k = 2\n",
      "trovata label diversa, forse si puo splittare\n",
      "si puo sicuramente splittare, label diversi e features diverse\n",
      "analizziamo label 1\n",
      "Apple\n",
      "k = 1\n",
      "k = 2\n",
      "trovata label diversa, forse si puo splittare\n",
      "si puo sicuramente splittare, label diversi e features diverse\n",
      "analizziamo label 2\n",
      "Banana\n",
      "trovata label diversa, forse si puo splittare\n",
      "si puo sicuramente splittare, label diversi e features diverse\n",
      "analizziamo label 3\n",
      "Apple\n",
      "k = 1\n",
      "k = 2\n",
      "trovata label diversa, forse si puo splittare\n",
      "si puo sicuramente splittare, label diversi e features diverse\n",
      "analizziamo label 4\n",
      "Apple\n",
      "k = 1\n",
      "k = 2\n",
      "trovata label diversa, forse si puo splittare\n",
      "si puo sicuramente splittare, label diversi e features diverse\n"
     ]
    },
    {
     "data": {
      "text/plain": [
       "1"
      ]
     },
     "execution_count": 170,
     "metadata": {},
     "output_type": "execute_result"
    }
   ],
   "source": [
    "data = [['Green', 3], ['Green', 3], ['Green', 5], ['Green', 3], ['Green', 3]]\n",
    "labels = [['Apple'], ['Apple'], ['Banana'], ['Apple'], ['Apple']]\n",
    "possible = 0\n",
    "def Split_possibility_decider(data, labels):\n",
    "    possible = 0\n",
    "    ''' decide if we can split: if there is at least one element with label different from others and at least one feature different\n",
    "    then yes, we can split'''\n",
    "#     print(labels)\n",
    "    label_list = [i[0] for i in labels]\n",
    "    print('trasformato in lista...', label_list)\n",
    "    label_set = set(label_list)\n",
    "    print('abbiamo numero di label: --> ', len(set(label_list)))\n",
    "    num_of_labels = len(set(label_list))\n",
    "    if num_of_labels == 1 or num_of_labels == 0:\n",
    "        possible = 0\n",
    "        return possible \n",
    "    elif num_of_labels > 1:\n",
    "        for i in range(len(label_list)):\n",
    "            print('analizziamo label', i)\n",
    "            label_under_analysis = label_list[i]\n",
    "            print(label_under_analysis)\n",
    "            k = 0\n",
    "            for j in range(len(label_list)):\n",
    "                if j != i:\n",
    "                    if label_list[k] != label_under_analysis:\n",
    "                        print('trovata label diversa, forse si puo splittare')      \n",
    "                        if data[k] != data[i]:\n",
    "                            print('si puo sicuramente splittare, label diversi e features diverse')\n",
    "                            possible = 1\n",
    "                            break\n",
    "    \n",
    "                k += 1\n",
    "                print(\"k =\", k)\n",
    "\n",
    "    return possible            \n",
    "                \n",
    "Split_possibility_decider(data, labels)\n",
    "        \n",
    "        \n"
   ]
  },
  {
   "cell_type": "code",
   "execution_count": 139,
   "metadata": {},
   "outputs": [
    {
     "data": {
      "text/plain": [
       "['Green', 'Yellow', 'Red', 'Red', 'Yellow', [...], 3, 3, 1, 1, 3]"
      ]
     },
     "execution_count": 139,
     "metadata": {},
     "output_type": "execute_result"
    }
   ],
   "source": [
    "feature_list_of_lists"
   ]
  },
  {
   "cell_type": "code",
   "execution_count": 52,
   "metadata": {},
   "outputs": [],
   "source": [
    "# node: ask question about feature. input: list of rows\n",
    "# split dataset\n",
    "# calculate information gain\n",
    "# choose best question\n",
    "# recursive algorithm. "
   ]
  },
  {
   "cell_type": "code",
   "execution_count": 54,
   "metadata": {},
   "outputs": [],
   "source": [
    "def string_question(feature, labels):\n",
    "    for labelled_element in labels:\n",
    "        \n",
    "\n",
    "def numeric_question(feature, labels):\n",
    "    pass"
   ]
  },
  {
   "cell_type": "code",
   "execution_count": 58,
   "metadata": {},
   "outputs": [],
   "source": [
    "def question_decider(feature):\n",
    "    if type(feature) == 'string':\n",
    "        return string_question\n",
    "    if 'int' in type(feature) or 'float' in type(feature):\n",
    "        return numeric_question\n",
    "    "
   ]
  },
  {
   "cell_type": "code",
   "execution_count": 59,
   "metadata": {},
   "outputs": [],
   "source": [
    "class node_training:\n",
    "    def __init__(self, list_of_features, list_of_labels):\n",
    "        self.list_of_features = list_of_features\n",
    "        self.list_of_labels = list_of_labels\n",
    "        self.num_of_feat, self.feat_to_test = unique_values(list_of_features)\n",
    "        self.num_of_labels, self.labels_to_test = unique_values(labels)\n",
    "        \n",
    "    def decide_best_question(self):\n",
    "        for row in list_of_features:\n",
    "            for feature in row:\n",
    "                question = question_decider(feature)\n",
    "                "
   ]
  },
  {
   "cell_type": "code",
   "execution_count": 60,
   "metadata": {},
   "outputs": [],
   "source": [
    "def unique_values(list_of_lists):\n",
    "    unique_values = []\n",
    "    for row in list_of_lists:\n",
    "        for element in row:\n",
    "            if element not in unique_values:\n",
    "                unique_values.append(element)\n",
    "            else:\n",
    "                continue\n",
    "    return len(unique_values), unique_values"
   ]
  },
  {
   "cell_type": "code",
   "execution_count": 61,
   "metadata": {},
   "outputs": [
    {
     "data": {
      "text/plain": [
       "3"
      ]
     },
     "execution_count": 61,
     "metadata": {},
     "output_type": "execute_result"
    }
   ],
   "source": [
    "dummy_node = node_training(data, labels)\n",
    "dummy_node.feat_to_test\n",
    "dummy_node.num_of_labels"
   ]
  },
  {
   "cell_type": "code",
   "execution_count": 62,
   "metadata": {},
   "outputs": [],
   "source": [
    "def fattoriale(n):\n",
    "    if n == 1:\n",
    "        return 1\n",
    "    else:\n",
    "        return n*fattoriale(n-1)"
   ]
  },
  {
   "cell_type": "code",
   "execution_count": 66,
   "metadata": {},
   "outputs": [
    {
     "data": {
      "text/plain": [
       "6689502913449127057588118054090372586752746333138029810295671352301633557244962989366874165271984981308157637893214090552534408589408121859898481114389650005964960521256960000000000000000000000000000"
      ]
     },
     "execution_count": 66,
     "metadata": {},
     "output_type": "execute_result"
    }
   ],
   "source": [
    "fattoriale(120)"
   ]
  },
  {
   "cell_type": "code",
   "execution_count": 73,
   "metadata": {},
   "outputs": [],
   "source": [
    "dictio = {(1,2) : 'foglia'}"
   ]
  },
  {
   "cell_type": "code",
   "execution_count": 74,
   "metadata": {},
   "outputs": [
    {
     "data": {
      "text/plain": [
       "'foglia'"
      ]
     },
     "execution_count": 74,
     "metadata": {},
     "output_type": "execute_result"
    }
   ],
   "source": [
    "dictio[(1,2)]"
   ]
  },
  {
   "cell_type": "code",
   "execution_count": 75,
   "metadata": {},
   "outputs": [],
   "source": [
    "dictio[(3,4)] = 'casa'"
   ]
  },
  {
   "cell_type": "code",
   "execution_count": 76,
   "metadata": {},
   "outputs": [
    {
     "name": "stdout",
     "output_type": "stream",
     "text": [
      "{(1, 2): 'foglia', (3, 4): 'casa'}\n"
     ]
    }
   ],
   "source": [
    "print(dictio)"
   ]
  },
  {
   "cell_type": "code",
   "execution_count": 173,
   "metadata": {},
   "outputs": [],
   "source": [
    "def training_step_nodo(Data, labels, path_so_far, path_node_dictionary):\n",
    "    possible = Split_possibility_decider(Data, labels)  # ok, done\n",
    "    if possible == False:\n",
    "        path_so_far.append(0)       \n",
    "        tuple_path_so_far_temp = tuple(path_so_far)\n",
    "        path_dictionary[tuple_path_so_far_temp] = leaf(path_so_far, Data)       # then we assign to the object its predictions\n",
    "        return path_node_dictionary\n",
    "    elif possible == True:\n",
    "        path_so_far.append(1)\n",
    "        feature_to_split_on = choose_quest_feature(Data, labels)\n",
    "        tuple_path_so_far_temp = tuple(path_so_far)\n",
    "        path_node_dictionary[tuple_path_so_far_temp] = node(path_so_far, Data)  # then we assign to the object its behaviour on new data\n",
    "        X_true, X_false, y_true, y_false = data_splitter(Data, labels, feature_to_split_on)\n",
    "        training_step_nodo(X_true, y_true, path_so_far, path_node_dictionary)\n",
    "        training_step_nodo(X_false, y_false, path_so_far, path_node_dictionary)\n",
    "        "
   ]
  },
  {
   "cell_type": "code",
   "execution_count": 174,
   "metadata": {},
   "outputs": [
    {
     "data": {
      "text/plain": [
       "[['Green', 3], ['Green', 3], ['Green', 5], ['Green', 3], ['Green', 3]]"
      ]
     },
     "execution_count": 174,
     "metadata": {},
     "output_type": "execute_result"
    }
   ],
   "source": [
    "data"
   ]
  },
  {
   "cell_type": "code",
   "execution_count": 177,
   "metadata": {},
   "outputs": [
    {
     "data": {
      "text/plain": [
       "int"
      ]
     },
     "execution_count": 177,
     "metadata": {},
     "output_type": "execute_result"
    }
   ],
   "source": [
    "type(data[0][1])"
   ]
  },
  {
   "cell_type": "code",
   "execution_count": null,
   "metadata": {},
   "outputs": [],
   "source": []
  },
  {
   "cell_type": "code",
   "execution_count": null,
   "metadata": {},
   "outputs": [],
   "source": []
  },
  {
   "cell_type": "code",
   "execution_count": null,
   "metadata": {},
   "outputs": [],
   "source": []
  }
 ],
 "metadata": {
  "kernelspec": {
   "display_name": "Python 3",
   "language": "python",
   "name": "python3"
  },
  "language_info": {
   "codemirror_mode": {
    "name": "ipython",
    "version": 3
   },
   "file_extension": ".py",
   "mimetype": "text/x-python",
   "name": "python",
   "nbconvert_exporter": "python",
   "pygments_lexer": "ipython3",
   "version": "3.7.0"
  }
 },
 "nbformat": 4,
 "nbformat_minor": 2
}
