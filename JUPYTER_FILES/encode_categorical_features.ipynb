{
 "cells": [
  {
   "cell_type": "markdown",
   "metadata": {},
   "source": [
    "pipeline:\n",
    "1) allows to properly cross validate a process, rather than just a model (including pre-processing as well as model building)\n",
    "2) grid search / randomized search of both tuning parameters for model and preprocessing steps.  for example you want to check model parameters plus parameters linked to strategy for handling missing values. you can do a grid search and check both!"
   ]
  },
  {
   "cell_type": "code",
   "execution_count": null,
   "metadata": {},
   "outputs": [],
   "source": [
    "import pandas as pd\n",
    "import numpy as np\n",
    "import matplotlib.pyplot as plt"
   ]
  },
  {
   "cell_type": "code",
   "execution_count": 101,
   "metadata": {},
   "outputs": [
    {
     "name": "stdout",
     "output_type": "stream",
     "text": [
      "Index(['PassengerId', 'Survived', 'Pclass', 'Name', 'Sex', 'Age', 'SibSp',\n",
      "       'Parch', 'Ticket', 'Fare', 'Cabin', 'Embarked'],\n",
      "      dtype='object')\n",
      "PassengerId      0\n",
      "Survived         0\n",
      "Pclass           0\n",
      "Name             0\n",
      "Sex              0\n",
      "Age            177\n",
      "SibSp            0\n",
      "Parch            0\n",
      "Ticket           0\n",
      "Fare             0\n",
      "Cabin          687\n",
      "Embarked         2\n",
      "dtype: int64\n",
      "shape: (891, 12)\n"
     ]
    }
   ],
   "source": [
    "df = pd.read_csv('http://bit.ly/kaggletrain') # titanic dataset\n",
    "# df.head(3)\n",
    "print(df.columns)\n",
    "print(df.isna().sum())\n",
    "print('shape:',df.shape)"
   ]
  },
  {
   "cell_type": "code",
   "execution_count": 102,
   "metadata": {},
   "outputs": [
    {
     "name": "stdout",
     "output_type": "stream",
     "text": [
      "shape:  (889, 4)\n"
     ]
    },
    {
     "data": {
      "text/html": [
       "<div>\n",
       "<style scoped>\n",
       "    .dataframe tbody tr th:only-of-type {\n",
       "        vertical-align: middle;\n",
       "    }\n",
       "\n",
       "    .dataframe tbody tr th {\n",
       "        vertical-align: top;\n",
       "    }\n",
       "\n",
       "    .dataframe thead th {\n",
       "        text-align: right;\n",
       "    }\n",
       "</style>\n",
       "<table border=\"1\" class=\"dataframe\">\n",
       "  <thead>\n",
       "    <tr style=\"text-align: right;\">\n",
       "      <th></th>\n",
       "      <th>Survived</th>\n",
       "      <th>Pclass</th>\n",
       "      <th>Sex</th>\n",
       "      <th>Embarked</th>\n",
       "    </tr>\n",
       "  </thead>\n",
       "  <tbody>\n",
       "    <tr>\n",
       "      <th>0</th>\n",
       "      <td>0</td>\n",
       "      <td>3</td>\n",
       "      <td>male</td>\n",
       "      <td>S</td>\n",
       "    </tr>\n",
       "    <tr>\n",
       "      <th>1</th>\n",
       "      <td>1</td>\n",
       "      <td>1</td>\n",
       "      <td>female</td>\n",
       "      <td>C</td>\n",
       "    </tr>\n",
       "    <tr>\n",
       "      <th>2</th>\n",
       "      <td>1</td>\n",
       "      <td>3</td>\n",
       "      <td>female</td>\n",
       "      <td>S</td>\n",
       "    </tr>\n",
       "    <tr>\n",
       "      <th>3</th>\n",
       "      <td>1</td>\n",
       "      <td>1</td>\n",
       "      <td>female</td>\n",
       "      <td>S</td>\n",
       "    </tr>\n",
       "    <tr>\n",
       "      <th>4</th>\n",
       "      <td>0</td>\n",
       "      <td>3</td>\n",
       "      <td>male</td>\n",
       "      <td>S</td>\n",
       "    </tr>\n",
       "  </tbody>\n",
       "</table>\n",
       "</div>"
      ],
      "text/plain": [
       "   Survived  Pclass     Sex Embarked\n",
       "0         0       3    male        S\n",
       "1         1       1  female        C\n",
       "2         1       3  female        S\n",
       "3         1       1  female        S\n",
       "4         0       3    male        S"
      ]
     },
     "execution_count": 102,
     "metadata": {},
     "output_type": "execute_result"
    }
   ],
   "source": [
    "# we select a couple of features, for teching purposes\n",
    "# survived: target. embarked: port they embarked from\n",
    "df = df.loc[df.Embarked.notna(),['Survived', 'Pclass','Sex','Embarked' ]]\n",
    "# excluding rows where values are missing\n",
    "print('shape: ',df.shape)\n",
    "df.head()"
   ]
  },
  {
   "cell_type": "code",
   "execution_count": 103,
   "metadata": {},
   "outputs": [
    {
     "name": "stdout",
     "output_type": "stream",
     "text": [
      "(889, 1)\n",
      "(889,)\n",
      "0.6783406335301212\n",
      "0    0.617548\n",
      "1    0.382452\n",
      "Name: Survived, dtype: float64\n"
     ]
    }
   ],
   "source": [
    "# cross validate a model that uses only Pclass\n",
    "X = df.loc[:, ['Pclass']]\n",
    "y = df.Survived\n",
    "print(X.shape)\n",
    "print(y.shape)\n",
    "from sklearn.linear_model import LogisticRegression\n",
    "logreg = LogisticRegression(solver='lbfgs')\n",
    "from sklearn.model_selection import cross_val_score\n",
    "print(cross_val_score(logreg, X, y, cv=5, scoring='accuracy').mean())\n",
    "# we are doing 5-fold cross validation\n",
    "print(y.value_counts(normalize=True))  # compare with null accuracy, the accuracy we would get just always predicting the most frequent class\n",
    "# we want to include more columns: sex and embarked column. how to encode them?\n",
    "# dummy/onehot encoding (same thing). \n",
    "from sklearn.preprocessing import OneHotEncoder\n",
    "df[\"Sex\"] = df[\"Sex\"].map({'male': 0, 'female': 1})\n",
    "ohe = OneHotEncoder(sparse=False) # has fit/transform method. and fit_transform to do it at the same time.\n",
    "y1 = ohe.fit_transform(df[[\"Sex\"]])\n"
   ]
  },
  {
   "cell_type": "code",
   "execution_count": 104,
   "metadata": {},
   "outputs": [
    {
     "name": "stdout",
     "output_type": "stream",
     "text": [
      "['S' 'C' 'Q']\n",
      "0    1\n",
      "1    0\n",
      "2    1\n",
      "3    1\n",
      "4    1\n",
      "5    3\n",
      "6    1\n",
      "7    1\n",
      "8    1\n",
      "9    0\n",
      "Name: Embarked, dtype: int64\n"
     ]
    }
   ],
   "source": [
    "print(df.Embarked.unique())\n",
    "y2 = df[\"Embarked\"] = df[\"Embarked\"].map({'C': 0, 'S': 1, 'Q': 3})\n",
    "print(df['Embarked'].head(10))\n"
   ]
  },
  {
   "cell_type": "code",
   "execution_count": null,
   "metadata": {},
   "outputs": [],
   "source": []
  },
  {
   "cell_type": "code",
   "execution_count": 105,
   "metadata": {},
   "outputs": [
    {
     "name": "stdout",
     "output_type": "stream",
     "text": [
      "shape:  (889, 4)\n"
     ]
    },
    {
     "data": {
      "text/html": [
       "<div>\n",
       "<style scoped>\n",
       "    .dataframe tbody tr th:only-of-type {\n",
       "        vertical-align: middle;\n",
       "    }\n",
       "\n",
       "    .dataframe tbody tr th {\n",
       "        vertical-align: top;\n",
       "    }\n",
       "\n",
       "    .dataframe thead th {\n",
       "        text-align: right;\n",
       "    }\n",
       "</style>\n",
       "<table border=\"1\" class=\"dataframe\">\n",
       "  <thead>\n",
       "    <tr style=\"text-align: right;\">\n",
       "      <th></th>\n",
       "      <th>Pclass</th>\n",
       "      <th>Sex</th>\n",
       "      <th>Embarked</th>\n",
       "    </tr>\n",
       "  </thead>\n",
       "  <tbody>\n",
       "    <tr>\n",
       "      <th>0</th>\n",
       "      <td>3</td>\n",
       "      <td>male</td>\n",
       "      <td>S</td>\n",
       "    </tr>\n",
       "    <tr>\n",
       "      <th>1</th>\n",
       "      <td>1</td>\n",
       "      <td>female</td>\n",
       "      <td>C</td>\n",
       "    </tr>\n",
       "    <tr>\n",
       "      <th>2</th>\n",
       "      <td>3</td>\n",
       "      <td>female</td>\n",
       "      <td>S</td>\n",
       "    </tr>\n",
       "  </tbody>\n",
       "</table>\n",
       "</div>"
      ],
      "text/plain": [
       "   Pclass     Sex Embarked\n",
       "0       3    male        S\n",
       "1       1  female        C\n",
       "2       3  female        S"
      ]
     },
     "execution_count": 105,
     "metadata": {},
     "output_type": "execute_result"
    }
   ],
   "source": [
    "# now, re define X\n",
    "df = pd.read_csv('http://bit.ly/kaggletrain') # titanic dataset\n",
    "df = df.loc[df.Embarked.notna(),['Survived', 'Pclass','Sex','Embarked' ]]\n",
    "# excluding rows where values are missing\n",
    "print('shape: ',df.shape)\n",
    "X = df.drop('Survived', axis='columns')\n",
    "X.head(3)"
   ]
  },
  {
   "cell_type": "code",
   "execution_count": 106,
   "metadata": {},
   "outputs": [
    {
     "name": "stdout",
     "output_type": "stream",
     "text": [
      "[[1. 0.]\n",
      " [0. 1.]\n",
      " [0. 1.]\n",
      " ...\n",
      " [0. 1.]\n",
      " [1. 0.]\n",
      " [1. 0.]] /// [[0. 1. 0.]\n",
      " [1. 0. 0.]\n",
      " [0. 1. 0.]\n",
      " ...\n",
      " [0. 1. 0.]\n",
      " [1. 0. 0.]\n",
      " [0. 0. 1.]]\n"
     ]
    }
   ],
   "source": [
    "df[\"Sex\"] = df[\"Sex\"].map({'male': 0, 'female': 1})\n",
    "ohe = OneHotEncoder(sparse=False) # has fit/transform method. and fit_transform to do it at the same time.\n",
    "y1 = ohe.fit_transform(df[[\"Sex\"]])\n",
    "df[\"Embarked\"] = df[\"Embarked\"].map({'C': 0, 'S': 1, 'Q': 3})\n",
    "ohe2 = OneHotEncoder(sparse=False) # has fit/transform method. and fit_transform to do it at the same time.\n",
    "y2 = ohe2.fit_transform(df[[\"Embarked\"]])\n",
    "print(y1, '///', y2)"
   ]
  },
  {
   "cell_type": "code",
   "execution_count": 130,
   "metadata": {},
   "outputs": [
    {
     "name": "stdout",
     "output_type": "stream",
     "text": [
      "(889, 3)\n",
      "(889, 2)\n",
      "<class 'numpy.ndarray'>\n",
      "(889, 3)\n",
      "<class 'numpy.ndarray'>\n",
      "(889, 1)\n",
      "<class 'numpy.ndarray'>\n"
     ]
    }
   ],
   "source": [
    "X = df.drop(\"Survived\", axis=1)\n",
    "X.head()\n",
    "print(X.shape)\n",
    "print(y1.shape)\n",
    "print(type(y1))\n",
    "print(y2.shape)\n",
    "print(type(y2))\n",
    "y3 = np.array(df[[\"Pclass\"]])\n",
    "print(y3.shape)\n",
    "print(type(y3))"
   ]
  },
  {
   "cell_type": "code",
   "execution_count": 134,
   "metadata": {},
   "outputs": [
    {
     "name": "stdout",
     "output_type": "stream",
     "text": [
      "[[1. 0. 0. 1. 0. 3.]\n",
      " [0. 1. 1. 0. 0. 1.]\n",
      " [0. 1. 0. 1. 0. 3.]\n",
      " ...\n",
      " [0. 1. 0. 1. 0. 3.]\n",
      " [1. 0. 1. 0. 0. 1.]\n",
      " [1. 0. 0. 0. 1. 3.]]\n"
     ]
    }
   ],
   "source": [
    "X = np.concatenate((y1,y2, y3),axis=1)\n",
    "print(X)"
   ]
  },
  {
   "cell_type": "code",
   "execution_count": 142,
   "metadata": {},
   "outputs": [
    {
     "name": "stdout",
     "output_type": "stream",
     "text": [
      "(889, 6)\n",
      "(889,)\n",
      "0.7727924839713071\n"
     ]
    }
   ],
   "source": [
    "print(X.shape)\n",
    "print(y.shape)\n",
    "from sklearn.linear_model import LogisticRegression\n",
    "logreg = LogisticRegression(solver='lbfgs')\n",
    "from sklearn.model_selection import cross_val_score\n",
    "print(cross_val_score(logreg, X, y, cv=5, scoring='accuracy').mean())\n",
    "# so we can see that like this, accuracy went way up! "
   ]
  },
  {
   "cell_type": "code",
   "execution_count": null,
   "metadata": {},
   "outputs": [],
   "source": [
    "# so in the new version of sklearn, step of encoding the feature is done through pipeline\n",
    "# that can be treated ust like a model. "
   ]
  }
 ],
 "metadata": {
  "kernelspec": {
   "display_name": "Python 3",
   "language": "python",
   "name": "python3"
  },
  "language_info": {
   "codemirror_mode": {
    "name": "ipython",
    "version": 3
   },
   "file_extension": ".py",
   "mimetype": "text/x-python",
   "name": "python",
   "nbconvert_exporter": "python",
   "pygments_lexer": "ipython3",
   "version": "3.7.0"
  }
 },
 "nbformat": 4,
 "nbformat_minor": 2
}
