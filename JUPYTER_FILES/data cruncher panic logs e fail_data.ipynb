{
 "cells": [
  {
   "cell_type": "code",
   "execution_count": 6,
   "metadata": {
    "scrolled": true
   },
   "outputs": [
    {
     "name": "stdout",
     "output_type": "stream",
     "text": [
      "['SN5106854_15_1', 'SN5106855_16_1', 'SN5106856_17_1', 'SN5106857_18_1', 'SN5125871_1_2', 'SN5125872_4_2', 'SN5125873_5_2', 'SN5125874_10_1', 'SN5125875_11_1', 'SN5125876_12_1', 'SN5125877_2_1', 'SN5125878_3_2', 'SN5125879_6_1', 'SN5125895_13_1', 'SN5125898_1_2', 'SN5125898_1_3', 'SN5125899_2_3', 'SN5125900_3_3', 'SN5125902_5_2', 'SN5125903_6_2', 'SN5125904_7_1', 'SN5125905_1_3', 'SN5125908_4_1', 'SN5125909_5_1', 'SN5125910_6_1']\n",
      "25\n"
     ]
    }
   ],
   "source": [
    "import os\n",
    "input_string = r\"\\\\micfs01-svmb\\SQRALib\\engi\\datalogs\\emmc\\AMBYX\\PS8226\\J56X\\VM05119.WOTLC0001\"\n",
    "all_directories = [x[0] for x in os.walk(input_string)]\n",
    "all_vs = [elem.split('\\\\')[-1] for elem in all_directories if elem.split('\\\\')[-1].startswith('SN')]\n",
    "print(all_vs)\n",
    "print(len(all_vs))"
   ]
  },
  {
   "cell_type": "code",
   "execution_count": 12,
   "metadata": {
    "scrolled": false
   },
   "outputs": [
    {
     "name": "stdout",
     "output_type": "stream",
     "text": [
      "## virtual session:  SN5106854_15_1 ##\n",
      "num of units:  173 panic log code:  None\n",
      "num of units:  3 panic log code:  0x222D0108\n",
      "## virtual session:  SN5106855_16_1 ##\n",
      "num of units:  173 panic log code:  None\n",
      "num of units:  3 panic log code:  0x222D0108\n",
      "## virtual session:  SN5106856_17_1 ##\n",
      "num of units:  173 panic log code:  None\n",
      "num of units:  3 panic log code:  0x222D0108\n",
      "## virtual session:  SN5106857_18_1 ##\n",
      "## virtual session:  SN5125871_1_2 ##\n",
      "num of units:  173 panic log code:  None\n",
      "num of units:  3 panic log code:  0x222D0108\n",
      "## virtual session:  SN5125872_4_2 ##\n",
      "num of units:  171 panic log code:  None\n",
      "num of units:  3 panic log code:  0x222D0108\n",
      "## virtual session:  SN5125873_5_2 ##\n",
      "num of units:  170 panic log code:  None\n",
      "num of units:  2 panic log code:  0x222D0108\n",
      "## virtual session:  SN5125874_10_1 ##\n",
      "num of units:  127 panic log code:  0x222B010D\n",
      "num of units:  43 panic log code:  None\n",
      "num of units:  2 panic log code:  0x222D0108\n",
      "## virtual session:  SN5125875_11_1 ##\n",
      "num of units:  127 panic log code:  0x222B010D\n",
      "num of units:  43 panic log code:  None\n",
      "num of units:  2 panic log code:  0x222D0108\n",
      "## virtual session:  SN5125876_12_1 ##\n",
      "num of units:  127 panic log code:  0x222B010D\n",
      "num of units:  43 panic log code:  None\n",
      "num of units:  2 panic log code:  0x222D0108\n",
      "## virtual session:  SN5125877_2_1 ##\n",
      "num of units:  127 panic log code:  0x222B010D\n",
      "num of units:  43 panic log code:  None\n",
      "num of units:  2 panic log code:  0x222D0108\n",
      "## virtual session:  SN5125878_3_2 ##\n",
      "num of units:  126 panic log code:  0x222B010D\n",
      "num of units:  43 panic log code:  None\n",
      "num of units:  2 panic log code:  0x222D0108\n",
      "## virtual session:  SN5125879_6_1 ##\n",
      "num of units:  125 panic log code:  0x222B010D\n",
      "num of units:  41 panic log code:  None\n",
      "num of units:  2 panic log code:  0x222D0108\n",
      "## virtual session:  SN5125895_13_1 ##\n",
      "## virtual session:  SN5125898_1_2 ##\n",
      "num of units:  125 panic log code:  0x222B010D\n",
      "num of units:  40 panic log code:  None\n",
      "num of units:  2 panic log code:  0x222D0108\n",
      "## virtual session:  SN5125898_1_3 ##\n",
      "num of units:  125 panic log code:  0x222B010D\n",
      "num of units:  40 panic log code:  None\n",
      "num of units:  2 panic log code:  0x222D0108\n",
      "## virtual session:  SN5125899_2_3 ##\n",
      "num of units:  124 panic log code:  0x222B010D\n",
      "num of units:  40 panic log code:  None\n",
      "num of units:  2 panic log code:  0x222D0108\n",
      "## virtual session:  SN5125900_3_3 ##\n",
      "num of units:  92 panic log code:  0x222B010D\n",
      "num of units:  40 panic log code:  None\n",
      "num of units:  2 panic log code:  0x222D0108\n",
      "## virtual session:  SN5125902_5_2 ##\n",
      "num of units:  124 panic log code:  0x222B010D\n",
      "num of units:  40 panic log code:  None\n",
      "num of units:  2 panic log code:  0x222D0108\n",
      "## virtual session:  SN5125903_6_2 ##\n",
      "num of units:  124 panic log code:  0x222B010D\n",
      "num of units:  40 panic log code:  None\n",
      "num of units:  2 panic log code:  0x222D0108\n",
      "## virtual session:  SN5125904_7_1 ##\n",
      "num of units:  122 panic log code:  0x222B010D\n",
      "num of units:  40 panic log code:  None\n",
      "num of units:  2 panic log code:  0x222D0108\n",
      "## virtual session:  SN5125905_1_3 ##\n",
      "num of units:  122 panic log code:  0x222B010D\n",
      "num of units:  40 panic log code:  None\n",
      "num of units:  2 panic log code:  0x222D0108\n",
      "## virtual session:  SN5125908_4_1 ##\n",
      "num of units:  121 panic log code:  0x222B010D\n",
      "num of units:  39 panic log code:  None\n",
      "num of units:  2 panic log code:  0x222D0108\n",
      "## virtual session:  SN5125909_5_1 ##\n",
      "num of units:  121 panic log code:  0x222B010D\n",
      "num of units:  39 panic log code:  None\n",
      "num of units:  2 panic log code:  0x222D0108\n",
      "## virtual session:  SN5125910_6_1 ##\n",
      "num of units:  121 panic log code:  0x222B010D\n",
      "num of units:  39 panic log code:  None\n",
      "num of units:  2 panic log code:  0x222D0108\n"
     ]
    }
   ],
   "source": [
    "import pandas as pd\n",
    "import matplotlib.pyplot as plt\n",
    "for vs in all_vs:\n",
    "    print('## virtual session: ', vs, '##')\n",
    "#     input_path = r'\\\\micfs01-svmb\\SQRALib\\engi\\datalogs\\emmc\\AMBYX\\PS8226\\J56X\\VM05119.WOTLC0001\\SN5125874_10_1'\n",
    "    input_path = r'\\\\micfs01-svmb\\SQRALib\\engi\\datalogs\\emmc\\AMBYX\\PS8226\\J56X\\VM05119.WOTLC0001' + r'\\\\' + vs\n",
    "    session_number = input_path.split('\\\\')[-1]\n",
    "    erase_count_file_path = input_path + r'\\\\' + session_number + '_erase_count.csv'\n",
    "    df = pd.read_csv(erase_count_file_path)\n",
    "    raw_col_list = list(df.columns)\n",
    "    df=df[raw_col_list[0]].str.split(';', expand=True)\n",
    "    list_col_numbers = list(df.columns)\n",
    "    col_name_list = raw_col_list[0].split(';')\n",
    "    # print(col_name_list)\n",
    "    if len(list_col_numbers) > len(col_name_list):\n",
    "        difference = len(list_col_numbers) - len(col_name_list)\n",
    "        for i in range(difference):\n",
    "            col_name_list.append('extra_col' + str(i))\n",
    "    col_name_dictionary=dict(zip(list_col_numbers, col_name_list))\n",
    "    df.rename(columns=col_name_dictionary, inplace=True)\n",
    "    value_counts = df.loc[df['char_name'].str.contains(r'PL_code_0:2#', na=False),['char_result']]['char_result'].value_counts()\n",
    "    value_counts_dict = dict(zip(list(value_counts.index), list(value_counts)))\n",
    "    for key in value_counts_dict:\n",
    "        if key == '0xFFFFFFFF':\n",
    "            print('num of units: ', value_counts_dict[key], 'panic log code: ', \"None\")\n",
    "        else:\n",
    "            print('num of units: ', value_counts_dict[key], 'panic log code: ', key)\n",
    "#     print(df.loc[df['char_name'].str.contains(r'PL_code_0:2#', na=False),['char_result']]['char_result'].value_counts())\n",
    "#     plt.figure()\n",
    "#     plt.bar(list(value_counts.index), list(value_counts))\n",
    "#     plt.xlabel('number of events')\n",
    "#     plt.ylabel('number of units')\n",
    "#     plt.title(' units vs number of events  '+ vs)\n",
    "#     plt.grid()\n",
    " "
   ]
  },
  {
   "cell_type": "code",
   "execution_count": null,
   "metadata": {},
   "outputs": [],
   "source": []
  },
  {
   "cell_type": "code",
   "execution_count": null,
   "metadata": {},
   "outputs": [],
   "source": []
  },
  {
   "cell_type": "code",
   "execution_count": null,
   "metadata": {},
   "outputs": [],
   "source": []
  },
  {
   "cell_type": "code",
   "execution_count": null,
   "metadata": {},
   "outputs": [],
   "source": []
  },
  {
   "cell_type": "code",
   "execution_count": null,
   "metadata": {},
   "outputs": [],
   "source": []
  },
  {
   "cell_type": "code",
   "execution_count": null,
   "metadata": {},
   "outputs": [],
   "source": []
  }
 ],
 "metadata": {
  "kernelspec": {
   "display_name": "Python 3",
   "language": "python",
   "name": "python3"
  },
  "language_info": {
   "codemirror_mode": {
    "name": "ipython",
    "version": 3
   },
   "file_extension": ".py",
   "mimetype": "text/x-python",
   "name": "python",
   "nbconvert_exporter": "python",
   "pygments_lexer": "ipython3",
   "version": "3.7.0"
  }
 },
 "nbformat": 4,
 "nbformat_minor": 2
}
