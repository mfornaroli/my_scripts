{
 "cells": [
  {
   "cell_type": "code",
   "execution_count": 27,
   "metadata": {},
   "outputs": [],
   "source": [
    "class Employee:\n",
    "    raise_amount = 1.04\n",
    "    def __init__ (self, name, surname, pay):\n",
    "        self.name = name\n",
    "        self.surname = surname\n",
    "        self.pay = pay\n",
    "        self.email = name + surname + '@company.com'\n",
    "    def fullname(self):\n",
    "        return '{} {}'.format(self.name, self.surname)\n",
    "    def apply_raise(self):\n",
    "        self.pay = self.pay * self.raise_amount\n",
    "    def __repr__(self):\n",
    "        return f\"Employee({self.name},{self.surname},{self.pay})\"\n",
    "    def __add__(self, other):\n",
    "        return (self.pay + other.pay)\n",
    "    def __len__(self):\n",
    "        return len(self.fullname())\n",
    "\n",
    "    "
   ]
  },
  {
   "cell_type": "code",
   "execution_count": 28,
   "metadata": {},
   "outputs": [],
   "source": [
    "emp1=Employee('mic', 'forna', 30000)"
   ]
  },
  {
   "cell_type": "code",
   "execution_count": 29,
   "metadata": {},
   "outputs": [
    {
     "data": {
      "text/plain": [
       "'Employee(mic,forna,30000)'"
      ]
     },
     "execution_count": 29,
     "metadata": {},
     "output_type": "execute_result"
    }
   ],
   "source": [
    "repr(emp1)  # this is how you call it, dude"
   ]
  },
  {
   "cell_type": "code",
   "execution_count": 30,
   "metadata": {},
   "outputs": [],
   "source": [
    "emp2=Employee('luca', 'ricci', 30000)"
   ]
  },
  {
   "cell_type": "code",
   "execution_count": 31,
   "metadata": {},
   "outputs": [
    {
     "name": "stdout",
     "output_type": "stream",
     "text": [
      "60000\n"
     ]
    }
   ],
   "source": [
    "print(emp1+emp2)\n",
    "# we can see that now, we have the sum of their salary"
   ]
  },
  {
   "cell_type": "code",
   "execution_count": 35,
   "metadata": {},
   "outputs": [
    {
     "name": "stdout",
     "output_type": "stream",
     "text": [
      "mic forna\n",
      "9\n"
     ]
    }
   ],
   "source": [
    "print(emp1.fullname())\n",
    "print(len(emp1))"
   ]
  },
  {
   "cell_type": "markdown",
   "metadata": {},
   "source": [
    "# property decorator"
   ]
  },
  {
   "cell_type": "code",
   "execution_count": 56,
   "metadata": {},
   "outputs": [],
   "source": [
    "class Employee:\n",
    "    def __init__ (self, name, surname):\n",
    "        self.name = name\n",
    "        self.surname = surname\n",
    "        self.email = name + surname + '@company.com'\n",
    "        \n",
    "    def fullname(self):\n",
    "        return '{} {}'.format(self.name, self.surname)"
   ]
  },
  {
   "cell_type": "code",
   "execution_count": 57,
   "metadata": {},
   "outputs": [
    {
     "name": "stdout",
     "output_type": "stream",
     "text": [
      "mic forna\n",
      "enzo forna\n",
      "micforna@company.com\n"
     ]
    }
   ],
   "source": [
    "emp1 = Employee('mic', 'forna')\n",
    "print(emp1.fullname())\n",
    "emp1.name = 'enzo'\n",
    "print(emp1.fullname())\n",
    "print(emp1.email)  # so we can see that email has not changed!"
   ]
  },
  {
   "cell_type": "markdown",
   "metadata": {},
   "source": [
    "# property decoretor: allows us to define a method, and access it like an attribute!"
   ]
  },
  {
   "cell_type": "code",
   "execution_count": 67,
   "metadata": {},
   "outputs": [],
   "source": [
    "class Employee:\n",
    "    def __init__ (self, name, surname):\n",
    "        self.name = name\n",
    "        self.surname = surname\n",
    "    \n",
    "    def email(self):\n",
    "        return '{}{}@company.com'.format(self.name, self.surname)\n",
    "    \n",
    "    def fullname(self):\n",
    "        return '{} {}'.format(self.name, self.surname)"
   ]
  },
  {
   "cell_type": "code",
   "execution_count": 68,
   "metadata": {},
   "outputs": [
    {
     "name": "stdout",
     "output_type": "stream",
     "text": [
      "mic forna\n",
      "enzo forna\n",
      "enzoforna@company.com\n"
     ]
    }
   ],
   "source": [
    "emp1 = Employee('mic', 'forna')\n",
    "print(emp1.fullname())\n",
    "emp1.name = 'enzo'\n",
    "print(emp1.fullname())\n",
    "print(emp1.email())  # so we can see that email has not changed!"
   ]
  },
  {
   "cell_type": "code",
   "execution_count": null,
   "metadata": {},
   "outputs": [],
   "source": [
    "# but we dont like it like this! we should change the code"
   ]
  },
  {
   "cell_type": "code",
   "execution_count": 84,
   "metadata": {},
   "outputs": [],
   "source": [
    "class Employee:\n",
    "    def __init__ (self, name, surname):\n",
    "        self.name = name\n",
    "        self.surname = surname  # this happens when we create the instance!\n",
    "    @property\n",
    "    def email(self):\n",
    "        return '{}{}@company.com'.format(self.name, self.surname)  # this happens when we call the function\n",
    "    @property\n",
    "    def fullname(self):\n",
    "        return '{} {}'.format(self.name, self.surname)"
   ]
  },
  {
   "cell_type": "code",
   "execution_count": 85,
   "metadata": {},
   "outputs": [
    {
     "name": "stdout",
     "output_type": "stream",
     "text": [
      "mic forna\n",
      "enzo forna\n",
      "enzoforna@company.com\n"
     ]
    }
   ],
   "source": [
    "emp1 = Employee('mic', 'forna')\n",
    "print(emp1.fullname)\n",
    "emp1.name = 'enzo'\n",
    "print(emp1.fullname)  # also fullname, no longer a method hehhehe\n",
    "print(emp1.email) # ok! now it works, it prints the updated value, like we want"
   ]
  },
  {
   "cell_type": "markdown",
   "metadata": {},
   "source": [
    "# setter"
   ]
  },
  {
   "cell_type": "code",
   "execution_count": 98,
   "metadata": {},
   "outputs": [],
   "source": [
    "class Employee:\n",
    "    def __init__ (self, name, surname):\n",
    "        self.name = name\n",
    "        self.surname = surname  # this happens when we create the instance!\n",
    "    @property\n",
    "    def email(self):\n",
    "        return '{}{}@company.com'.format(self.name, self.surname)  # this happens when we call the function\n",
    "    @property\n",
    "    def fullname(self):\n",
    "        return '{} {}'.format(self.name, self.surname)    \n",
    "    \n",
    "    @fullname.setter\n",
    "    def fullname(self, input_fullname):  # pass full name in 'name', and change attributes of instance\n",
    "        first, last = input_fullname.split(' ')\n",
    "        self.name = first\n",
    "        self.surname = last\n",
    "        "
   ]
  },
  {
   "cell_type": "code",
   "execution_count": 107,
   "metadata": {},
   "outputs": [
    {
     "name": "stdout",
     "output_type": "stream",
     "text": [
      "lucaCamminacieli@company.com\n",
      "MirkoFornarelli@company.com\n"
     ]
    }
   ],
   "source": [
    "emp1 = Employee('luca', 'Camminacieli')\n",
    "print(emp1.email)\n",
    "emp1.fullname = 'Mirko Fornarelli'\n",
    "print(emp1.email)"
   ]
  },
  {
   "cell_type": "code",
   "execution_count": 100,
   "metadata": {},
   "outputs": [],
   "source": [
    "first, last = 'Mirko casalucci'.split(' ')"
   ]
  },
  {
   "cell_type": "markdown",
   "metadata": {},
   "source": [
    "# deleter"
   ]
  },
  {
   "cell_type": "code",
   "execution_count": 108,
   "metadata": {},
   "outputs": [],
   "source": [
    "class Employee:\n",
    "    def __init__ (self, name, surname):\n",
    "        self.name = name\n",
    "        self.surname = surname  # this happens when we create the instance!\n",
    "    @property\n",
    "    def email(self):\n",
    "        return '{}{}@company.com'.format(self.name, self.surname)  # this happens when we call the function\n",
    "    @property\n",
    "    def fullname(self):\n",
    "        return '{} {}'.format(self.name, self.surname)    \n",
    "    \n",
    "    @fullname.deleter\n",
    "    def fullname(self):  # pass full name in 'name', and change attributes of instance\n",
    "        print('delete name! licenziato')\n",
    "        self.name = None\n",
    "        self.surname = None\n",
    "        "
   ]
  },
  {
   "cell_type": "code",
   "execution_count": 111,
   "metadata": {},
   "outputs": [
    {
     "name": "stdout",
     "output_type": "stream",
     "text": [
      "delete name! licenziato\n",
      "delete name! licenziato\n"
     ]
    }
   ],
   "source": [
    "emp1 = Employee('luca', 'Camminacieli')\n",
    "del emp1.fullname\n",
    "emp1 = Employee('luca', 'Camminacieli')\n",
    "del(emp1.fullname)"
   ]
  },
  {
   "cell_type": "code",
   "execution_count": null,
   "metadata": {},
   "outputs": [],
   "source": []
  },
  {
   "cell_type": "code",
   "execution_count": null,
   "metadata": {},
   "outputs": [],
   "source": []
  },
  {
   "cell_type": "code",
   "execution_count": null,
   "metadata": {},
   "outputs": [],
   "source": []
  },
  {
   "cell_type": "code",
   "execution_count": null,
   "metadata": {},
   "outputs": [],
   "source": []
  },
  {
   "cell_type": "code",
   "execution_count": null,
   "metadata": {},
   "outputs": [],
   "source": []
  }
 ],
 "metadata": {
  "kernelspec": {
   "display_name": "Python 3",
   "language": "python",
   "name": "python3"
  },
  "language_info": {
   "codemirror_mode": {
    "name": "ipython",
    "version": 3
   },
   "file_extension": ".py",
   "mimetype": "text/x-python",
   "name": "python",
   "nbconvert_exporter": "python",
   "pygments_lexer": "ipython3",
   "version": "3.7.0"
  }
 },
 "nbformat": 4,
 "nbformat_minor": 2
}
