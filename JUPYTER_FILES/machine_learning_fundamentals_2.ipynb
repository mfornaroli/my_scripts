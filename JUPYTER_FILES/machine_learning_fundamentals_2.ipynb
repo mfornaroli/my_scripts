{
 "cells": [
  {
   "cell_type": "code",
   "execution_count": null,
   "metadata": {},
   "outputs": [],
   "source": [
    "# model evaluation, evaluation procedure\n",
    "# accuracy use, and limitation\n",
    "# confusion matrix\n",
    "# metrics linked to CM\n",
    "# classify performance\n",
    "# ROC curve\n",
    "# AUC vs Accuracy"
   ]
  },
  {
   "cell_type": "code",
   "execution_count": 7,
   "metadata": {},
   "outputs": [
    {
     "data": {
      "text/html": [
       "<div>\n",
       "<style scoped>\n",
       "    .dataframe tbody tr th:only-of-type {\n",
       "        vertical-align: middle;\n",
       "    }\n",
       "\n",
       "    .dataframe tbody tr th {\n",
       "        vertical-align: top;\n",
       "    }\n",
       "\n",
       "    .dataframe thead th {\n",
       "        text-align: right;\n",
       "    }\n",
       "</style>\n",
       "<table border=\"1\" class=\"dataframe\">\n",
       "  <thead>\n",
       "    <tr style=\"text-align: right;\">\n",
       "      <th></th>\n",
       "      <th>pregnant</th>\n",
       "      <th>glucose</th>\n",
       "      <th>bp</th>\n",
       "      <th>skin</th>\n",
       "      <th>insulin</th>\n",
       "      <th>bmi</th>\n",
       "      <th>pedigree</th>\n",
       "      <th>age</th>\n",
       "      <th>label</th>\n",
       "    </tr>\n",
       "  </thead>\n",
       "  <tbody>\n",
       "    <tr>\n",
       "      <th>0</th>\n",
       "      <td>6</td>\n",
       "      <td>148</td>\n",
       "      <td>72</td>\n",
       "      <td>35</td>\n",
       "      <td>0</td>\n",
       "      <td>33.6</td>\n",
       "      <td>0.627</td>\n",
       "      <td>50</td>\n",
       "      <td>1</td>\n",
       "    </tr>\n",
       "    <tr>\n",
       "      <th>1</th>\n",
       "      <td>1</td>\n",
       "      <td>85</td>\n",
       "      <td>66</td>\n",
       "      <td>29</td>\n",
       "      <td>0</td>\n",
       "      <td>26.6</td>\n",
       "      <td>0.351</td>\n",
       "      <td>31</td>\n",
       "      <td>0</td>\n",
       "    </tr>\n",
       "    <tr>\n",
       "      <th>2</th>\n",
       "      <td>8</td>\n",
       "      <td>183</td>\n",
       "      <td>64</td>\n",
       "      <td>0</td>\n",
       "      <td>0</td>\n",
       "      <td>23.3</td>\n",
       "      <td>0.672</td>\n",
       "      <td>32</td>\n",
       "      <td>1</td>\n",
       "    </tr>\n",
       "    <tr>\n",
       "      <th>3</th>\n",
       "      <td>1</td>\n",
       "      <td>89</td>\n",
       "      <td>66</td>\n",
       "      <td>23</td>\n",
       "      <td>94</td>\n",
       "      <td>28.1</td>\n",
       "      <td>0.167</td>\n",
       "      <td>21</td>\n",
       "      <td>0</td>\n",
       "    </tr>\n",
       "    <tr>\n",
       "      <th>4</th>\n",
       "      <td>0</td>\n",
       "      <td>137</td>\n",
       "      <td>40</td>\n",
       "      <td>35</td>\n",
       "      <td>168</td>\n",
       "      <td>43.1</td>\n",
       "      <td>2.288</td>\n",
       "      <td>33</td>\n",
       "      <td>1</td>\n",
       "    </tr>\n",
       "  </tbody>\n",
       "</table>\n",
       "</div>"
      ],
      "text/plain": [
       "   pregnant  glucose  bp  skin  insulin   bmi  pedigree  age  label\n",
       "0         6      148  72    35        0  33.6     0.627   50      1\n",
       "1         1       85  66    29        0  26.6     0.351   31      0\n",
       "2         8      183  64     0        0  23.3     0.672   32      1\n",
       "3         1       89  66    23       94  28.1     0.167   21      0\n",
       "4         0      137  40    35      168  43.1     2.288   33      1"
      ]
     },
     "execution_count": 7,
     "metadata": {},
     "output_type": "execute_result"
    }
   ],
   "source": [
    "import pandas as pd\n",
    "pima = pd.read_csv(r'C:\\Users\\Mfornaroli\\Desktop\\pima-indians-diabetes.csv')\n",
    "pima.head()\n",
    "# data.columns\n",
    "# label = 1 >> the patient has diabetes"
   ]
  },
  {
   "cell_type": "code",
   "execution_count": 8,
   "metadata": {},
   "outputs": [],
   "source": [
    "col_names = ['pregnant', 'glucose', 'bp', 'skin', 'insulin', 'bmi', 'pedigree',\n",
    "       'age', 'label']"
   ]
  },
  {
   "cell_type": "code",
   "execution_count": 21,
   "metadata": {},
   "outputs": [],
   "source": [
    "feature_cols = ['pregnant', 'insulin', 'bmi', 'age']\n",
    "X = pima[feature_cols]\n",
    "y = pima.label"
   ]
  },
  {
   "cell_type": "code",
   "execution_count": 22,
   "metadata": {},
   "outputs": [
    {
     "data": {
      "text/plain": [
       "LogisticRegression(C=1.0, class_weight=None, dual=False, fit_intercept=True,\n",
       "          intercept_scaling=1, max_iter=100, multi_class='ovr', n_jobs=1,\n",
       "          penalty='l2', random_state=None, solver='liblinear', tol=0.0001,\n",
       "          verbose=0, warm_start=False)"
      ]
     },
     "execution_count": 22,
     "metadata": {},
     "output_type": "execute_result"
    }
   ],
   "source": [
    "from sklearn.model_selection import train_test_split\n",
    "from sklearn.linear_model import LogisticRegression\n",
    "\n",
    "X_train, X_test, y_train, y_test = train_test_split(X, y, random_state=0)\n",
    "logreg = LogisticRegression()\n",
    "logreg.fit(X_train,y_train)"
   ]
  },
  {
   "cell_type": "code",
   "execution_count": 23,
   "metadata": {},
   "outputs": [],
   "source": [
    "y_pred_class = logreg.predict(X_test)"
   ]
  },
  {
   "cell_type": "code",
   "execution_count": 24,
   "metadata": {},
   "outputs": [
    {
     "name": "stdout",
     "output_type": "stream",
     "text": [
      "0.6927083333333334\n"
     ]
    }
   ],
   "source": [
    "from sklearn import metrics\n",
    "print(metrics.accuracy_score(y_test, y_pred_class))"
   ]
  },
  {
   "cell_type": "code",
   "execution_count": 27,
   "metadata": {},
   "outputs": [
    {
     "name": "stdout",
     "output_type": "stream",
     "text": [
      "0    130\n",
      "1     62\n",
      "Name: label, dtype: int64\n",
      "0.3229166666666667\n",
      "0.6770833333333333\n"
     ]
    }
   ],
   "source": [
    "# we should compare it with null accuracy (always predicting most frequent class)\n",
    "print(y_test.value_counts())\n",
    "print(y_test.mean())  # 67% of observations are zeros\n",
    "print(1-y_test.mean())"
   ]
  },
  {
   "cell_type": "code",
   "execution_count": 38,
   "metadata": {},
   "outputs": [
    {
     "name": "stdout",
     "output_type": "stream",
     "text": [
      "true      :  [1 0 0 1 0 0 1 1 0 0 1 1 0 0 0 0 1 0 0 0 1 1 0 0 0]\n",
      "predicted :  [0 0 0 0 0 0 0 1 0 1 0 1 0 0 0 0 0 0 0 0 0 0 0 0 0]\n"
     ]
    }
   ],
   "source": [
    "print('true      : ',y_test.values[0:25])\n",
    "print('predicted : ', y_pred_class[0:25])"
   ]
  },
  {
   "cell_type": "code",
   "execution_count": 39,
   "metadata": {},
   "outputs": [
    {
     "name": "stdout",
     "output_type": "stream",
     "text": [
      "[[118  12]\n",
      " [ 47  15]]\n"
     ]
    }
   ],
   "source": [
    "# confusion matrix available in metrics module, man!\n",
    "print(metrics.confusion_matrix(y_test, y_pred_class)) # true value first"
   ]
  },
  {
   "cell_type": "code",
   "execution_count": 40,
   "metadata": {},
   "outputs": [],
   "source": [
    "confusion = metrics.confusion_matrix(y_test, y_pred_class)\n",
    "TP = confusion[1,1]\n",
    "TN = confusion[0,0]\n",
    "FP = confusion[0,1]\n",
    "FN = confusion[1,0]"
   ]
  },
  {
   "cell_type": "code",
   "execution_count": 41,
   "metadata": {},
   "outputs": [
    {
     "name": "stdout",
     "output_type": "stream",
     "text": [
      "0.3072916666666667\n",
      "0.30729166666666663\n"
     ]
    }
   ],
   "source": [
    "print((FP + FN)/float(TN+TP+FP+FN))\n",
    "print(1-metrics.accuracy_score(y_test, y_pred_class))"
   ]
  },
  {
   "cell_type": "code",
   "execution_count": 44,
   "metadata": {},
   "outputs": [
    {
     "name": "stdout",
     "output_type": "stream",
     "text": [
      "0.24193548387096775\n",
      "0.24193548387096775\n"
     ]
    }
   ],
   "source": [
    "# print(dir(metrics)) allows you to check all methods inside metrics\n",
    "print(TP/float(TP+FN))  # sensitivity to positive instances / recall\n",
    "print(metrics.recall_score(y_test, y_pred_class))"
   ]
  },
  {
   "cell_type": "code",
   "execution_count": 46,
   "metadata": {},
   "outputs": [
    {
     "name": "stdout",
     "output_type": "stream",
     "text": [
      "0.5555555555555556\n",
      "0.5555555555555556\n"
     ]
    }
   ],
   "source": [
    "print(TP/float(TP+FP))   # precision\n",
    "print(metrics.precision_score(y_test, y_pred_class))"
   ]
  },
  {
   "cell_type": "code",
   "execution_count": 49,
   "metadata": {},
   "outputs": [
    {
     "name": "stdout",
     "output_type": "stream",
     "text": [
      "[0 0 0 0 0 0 0 1 0 1]\n",
      "[[0.63247571 0.36752429]\n",
      " [0.71643656 0.28356344]\n",
      " [0.71104114 0.28895886]\n",
      " [0.5858938  0.4141062 ]\n",
      " [0.84103973 0.15896027]\n",
      " [0.82934844 0.17065156]\n",
      " [0.50110974 0.49889026]\n",
      " [0.48658459 0.51341541]\n",
      " [0.72321388 0.27678612]\n",
      " [0.32810562 0.67189438]]\n"
     ]
    }
   ],
   "source": [
    "print(logreg.predict(X_test)[0:10])\n",
    "print(logreg.predict_proba(X_test)[0:10,:])\n",
    "#probability that a certain element will have diabetes or not, according to the model\n",
    "# two cols because there are 2 possible response classes!"
   ]
  },
  {
   "cell_type": "code",
   "execution_count": 54,
   "metadata": {},
   "outputs": [],
   "source": [
    "y_pred_prob = logreg.predict_proba(X_test)[:,1] # storing probabilities of having diabetes"
   ]
  },
  {
   "cell_type": "code",
   "execution_count": null,
   "metadata": {},
   "outputs": [],
   "source": [
    "# default: threshold for classification is 50%. but we can change it. \n",
    "# we could contact the patients only in case prob of having diabetes > 90%"
   ]
  },
  {
   "cell_type": "code",
   "execution_count": 55,
   "metadata": {},
   "outputs": [
    {
     "data": {
      "text/plain": [
       "array([0.36752429, 0.28356344, 0.28895886, 0.4141062 , 0.15896027,\n",
       "       0.17065156, 0.49889026, 0.51341541, 0.27678612, 0.67189438,\n",
       "       0.35755557, 0.74087965, 0.36050235, 0.23012363, 0.42654231,\n",
       "       0.19103515, 0.45763601, 0.1190141 , 0.43928953, 0.36961151,\n",
       "       0.44187989, 0.37611662, 0.19816022, 0.41677304, 0.15548281,\n",
       "       0.2531671 , 0.09743077, 0.69633712, 0.15358309, 0.2197836 ,\n",
       "       0.43094832, 0.34216058, 0.22396114, 0.38073543, 0.13342134,\n",
       "       0.38790216, 0.47049703, 0.16204743, 0.29548176, 0.30918161,\n",
       "       0.27299705, 0.38816583, 0.27353443, 0.28881041, 0.63471914,\n",
       "       0.02365251, 0.15820648, 0.23018375, 0.3484593 , 0.27580041,\n",
       "       0.33264104, 0.24880596, 0.74489512, 0.39001464, 0.41625545,\n",
       "       0.13575687, 0.18895376, 0.64777682, 0.18922131, 0.05685904,\n",
       "       0.63991547, 0.46636382, 0.1250972 , 0.26957602, 0.24919104,\n",
       "       0.30570396, 0.46376224, 0.20963095, 0.42847829, 0.40762264,\n",
       "       0.20169096, 0.27027066, 0.26255856, 0.57238263, 0.45467041,\n",
       "       0.27716152, 0.58001281, 0.41599488, 0.27276101, 0.34099223,\n",
       "       0.54626578, 0.37930723, 0.2992205 , 0.10059169, 0.32872602,\n",
       "       0.45101363, 0.16036979, 0.4896975 , 0.63230508, 0.40738404,\n",
       "       0.19794397, 0.19698021, 0.24463208, 0.11147185, 0.4158597 ,\n",
       "       0.21561856, 0.54124529, 0.48803602, 0.64652767, 0.33940658,\n",
       "       0.54263427, 0.16213824, 0.3778741 , 0.11311287, 0.34781987,\n",
       "       0.34042784, 0.1790985 , 0.21324812, 0.14710946, 0.23014102,\n",
       "       0.18404592, 0.52224649, 0.47099366, 0.28884248, 0.49325079,\n",
       "       0.41744473, 0.22915008, 0.27022911, 0.19243924, 0.7498713 ,\n",
       "       0.46500093, 0.6645454 , 0.42098599, 0.53564034, 0.16034702,\n",
       "       0.1435686 , 0.38142426, 0.33827314, 0.3630065 , 0.12842531,\n",
       "       0.28333693, 0.04005558, 0.18481139, 0.66716947, 0.46352874,\n",
       "       0.48715682, 0.19910794, 0.45861651, 0.23216721, 0.18369267,\n",
       "       0.26391994, 0.37492969, 0.12916506, 0.41413913, 0.42460858,\n",
       "       0.13832191, 0.20781694, 0.29477699, 0.15825099, 0.36016234,\n",
       "       0.23741449, 0.43350689, 0.20619881, 0.23162338, 0.61111541,\n",
       "       0.19731009, 0.80071498, 0.17808491, 0.36488735, 0.78618643,\n",
       "       0.44080614, 0.36559654, 0.11760138, 0.22843325, 0.47865069,\n",
       "       0.21320525, 0.51498521, 0.16122494, 0.23740119, 0.29374391,\n",
       "       0.16670048, 0.48716526, 0.29969894, 0.44651043, 0.50169902,\n",
       "       0.29246506, 0.61736228, 0.41593995, 0.25820945, 0.1741968 ,\n",
       "       0.33519541, 0.69606825, 0.32454368, 0.35730426, 0.2336947 ,\n",
       "       0.23738524, 0.38409318, 0.24691412, 0.27954552, 0.18501174,\n",
       "       0.2622362 , 0.27856926])"
      ]
     },
     "execution_count": 55,
     "metadata": {},
     "output_type": "execute_result"
    }
   ],
   "source": [
    "y_pred_prob"
   ]
  },
  {
   "cell_type": "code",
   "execution_count": 56,
   "metadata": {},
   "outputs": [],
   "source": [
    "import matplotlib.pyplot as plt\n",
    "%matplotlib inline\n",
    "plt.rcParams['font.size']=14"
   ]
  },
  {
   "cell_type": "code",
   "execution_count": 62,
   "metadata": {},
   "outputs": [
    {
     "data": {
      "text/plain": [
       "Text(0,0.5,'frequency')"
      ]
     },
     "execution_count": 62,
     "metadata": {},
     "output_type": "execute_result"
    },
    {
     "data": {
      "image/png": "[encoded data removed]",
      "text/plain": [
       "<Figure size 432x288 with 1 Axes>"
      ]
     },
     "metadata": {
      "needs_background": "light"
     },
     "output_type": "display_data"
    }
   ],
   "source": [
    "plt.hist(y_pred_prob, bins=10)\n",
    "plt.xlim(0,1)\n",
    "plt.title('histogram of predicted probbilities')\n",
    "plt.xlabel('predicted prob - diabetes')\n",
    "plt.ylabel('frequency')"
   ]
  },
  {
   "cell_type": "code",
   "execution_count": 64,
   "metadata": {},
   "outputs": [],
   "source": [
    "from sklearn.preprocessing import binarize\n",
    "# lowering the threshold to 30%\n",
    "y_pred_class = binarize([y_pred_prob], 0.3)[0]"
   ]
  },
  {
   "cell_type": "code",
   "execution_count": 65,
   "metadata": {},
   "outputs": [
    {
     "data": {
      "text/plain": [
       "array([0.36752429, 0.28356344, 0.28895886, 0.4141062 , 0.15896027,\n",
       "       0.17065156, 0.49889026, 0.51341541, 0.27678612, 0.67189438])"
      ]
     },
     "execution_count": 65,
     "metadata": {},
     "output_type": "execute_result"
    }
   ],
   "source": [
    "y_pred_prob[0:10]"
   ]
  },
  {
   "cell_type": "code",
   "execution_count": 66,
   "metadata": {},
   "outputs": [
    {
     "data": {
      "text/plain": [
       "array([1., 0., 0., 1., 0., 0., 1., 1., 0., 1.])"
      ]
     },
     "execution_count": 66,
     "metadata": {},
     "output_type": "execute_result"
    }
   ],
   "source": [
    "y_pred_class[0:10]"
   ]
  },
  {
   "cell_type": "code",
   "execution_count": 67,
   "metadata": {},
   "outputs": [
    {
     "name": "stdout",
     "output_type": "stream",
     "text": [
      "[[118  12]\n",
      " [ 47  15]]\n"
     ]
    }
   ],
   "source": [
    "print(confusion)"
   ]
  },
  {
   "cell_type": "code",
   "execution_count": 70,
   "metadata": {},
   "outputs": [
    {
     "name": "stdout",
     "output_type": "stream",
     "text": [
      "[[80 50]\n",
      " [16 46]]\n"
     ]
    }
   ],
   "source": [
    "print(metrics.confusion_matrix(y_test, y_pred_class))"
   ]
  },
  {
   "cell_type": "code",
   "execution_count": 72,
   "metadata": {},
   "outputs": [
    {
     "data": {
      "image/png": "[encoded data removed]",
      "text/plain": [
       "<Figure size 432x288 with 1 Axes>"
      ]
     },
     "metadata": {
      "needs_background": "light"
     },
     "output_type": "display_data"
    }
   ],
   "source": [
    "# optimal threshold. helps us to choose (...)\n",
    "# check how sensitivity and specificity are affected: ROC curve!\n",
    "fpr, tpr, threshold = metrics.roc_curve(y_test, y_pred_prob)\n",
    "plt.plot(fpr, tpr)\n",
    "plt.xlim([0.0, 1.0])\n",
    "plt.title('ROC curve for diabetes classifier')\n",
    "plt.xlabel('false pos rate (1-specificity)')\n",
    "plt.ylabel('true pos rate (sensitivity)')\n",
    "plt.grid()"
   ]
  },
  {
   "cell_type": "code",
   "execution_count": null,
   "metadata": {},
   "outputs": [],
   "source": []
  }
 ],
 "metadata": {
  "kernelspec": {
   "display_name": "Python 3",
   "language": "python",
   "name": "python3"
  },
  "language_info": {
   "codemirror_mode": {
    "name": "ipython",
    "version": 3
   },
   "file_extension": ".py",
   "mimetype": "text/x-python",
   "name": "python",
   "nbconvert_exporter": "python",
   "pygments_lexer": "ipython3",
   "version": "3.7.0"
  }
 },
 "nbformat": 4,
 "nbformat_minor": 2
}
