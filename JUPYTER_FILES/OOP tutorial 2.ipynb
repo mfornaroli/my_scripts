{
 "cells": [
  {
   "cell_type": "code",
   "execution_count": 15,
   "metadata": {},
   "outputs": [
    {
     "name": "stdout",
     "output_type": "stream",
     "text": [
      "1.04\n",
      "1.04\n",
      "1.04\n",
      "1.08\n",
      "1.08\n",
      "1.08\n",
      "1.18\n",
      "1.18\n",
      "1.18\n"
     ]
    }
   ],
   "source": [
    "# adding a decoretor to the top, we can turn a method into a class method\n",
    "\n",
    "class Employee:\n",
    "    \n",
    "    raise_amount = 1.04  # class variable, can be accessed via class or instance.\n",
    "    num_of_emps = 0   #increases everytime instance is created.\n",
    "    \n",
    "    def __init__(self, name, surname, pay):     # special method, self represents an instance of the class. runs every time we create instance.\n",
    "        self.name=name\n",
    "        self.surname=surname\n",
    "        self.pay=pay\n",
    "        self.email=name + '.' + surname + '@company.com'\n",
    "        Employee.num_of_emps += 1  #increases everytime instance is created. \n",
    "        \n",
    "    def fullname(self):    # each method within a class, automatically takes instance as first argument. we call it self (convention)\n",
    "        return '{} {}'.format(self.name, self.surname)\n",
    "    \n",
    "    def apply_raise(self):\n",
    "        self.pay=self.pay*self.raise_amount  #apply 4% raise. also Employee.raise_amount will work. but like this, we can change it for each instance\n",
    "     \n",
    "    @classmethod   # now the moethods receives automatically the class as first argument, not the instance\n",
    "    def set_raise_amt(cls, amount):\n",
    "        cls.raise_amount = amount\n",
    "        \n",
    "    @classmethod\n",
    "    def from_string(cls, emp_str):\n",
    "        name, surname, pay = emp_str.split('-') \n",
    "        return cls(name, surname, pay)\n",
    "    \n",
    "    @staticmethod   # dont pass anything automatically (instance nor class). just like regular functions!\n",
    "    def is_workday(day):\n",
    "        if day.weekday() == 5 or day.weekday() == 6:   # days are encoded with nembers from 0 to 6... \n",
    "            return False\n",
    "        return True\n",
    "\n",
    "\n",
    "emp_1 = Employee('Mich', 'Forn', 3000)\n",
    "emp_2 = Employee('mar', 'zucc', 100000)\n",
    "\n",
    "print(Employee.raise_amount)\n",
    "print(emp_1.raise_amount)\n",
    "print(emp_2.raise_amount)\n",
    "\n",
    "Employee.set_raise_amt(1.08)\n",
    "\n",
    "print(Employee.raise_amount)\n",
    "print(emp_1.raise_amount)\n",
    "print(emp_2.raise_amount)\n",
    "\n",
    "emp_1.set_raise_amt(1.18)  # works the same, dude. \n",
    "\n",
    "print(Employee.raise_amount)\n",
    "print(emp_1.raise_amount)\n",
    "print(emp_2.raise_amount)\n",
    "\n",
    "    "
   ]
  },
  {
   "cell_type": "code",
   "execution_count": 16,
   "metadata": {
    "scrolled": true
   },
   "outputs": [
    {
     "name": "stdout",
     "output_type": "stream",
     "text": [
      "mich-forna-1234\n",
      "mich forna 1234\n"
     ]
    }
   ],
   "source": [
    "emp_1_str = 'mich-forna-1234'\n",
    "nome, cognome, paga = emp_1_str.split('-')\n",
    "print(emp_1_str)\n",
    "print(nome, cognome, paga)"
   ]
  },
  {
   "cell_type": "code",
   "execution_count": 17,
   "metadata": {},
   "outputs": [
    {
     "name": "stdout",
     "output_type": "stream",
     "text": [
      "<__main__.Employee object at 0x000002B58588D780>\n",
      "mic\n",
      "1234\n"
     ]
    }
   ],
   "source": [
    "new_emp_1 = Employee.from_string('mic-forna-1234')\n",
    "print(new_emp_1)\n",
    "print(new_emp_1.name)\n",
    "print(new_emp_1.pay)"
   ]
  },
  {
   "cell_type": "code",
   "execution_count": 19,
   "metadata": {},
   "outputs": [
    {
     "name": "stdout",
     "output_type": "stream",
     "text": [
      "2016-07-10\n",
      "False\n"
     ]
    }
   ],
   "source": [
    "import datetime\n",
    "my_date = datetime.date(2016, 7, 10)\n",
    "print(my_date)\n",
    "print(Employee.is_workday(my_date))"
   ]
  },
  {
   "cell_type": "code",
   "execution_count": null,
   "metadata": {},
   "outputs": [],
   "source": []
  }
 ],
 "metadata": {
  "kernelspec": {
   "display_name": "Python 3",
   "language": "python",
   "name": "python3"
  },
  "language_info": {
   "codemirror_mode": {
    "name": "ipython",
    "version": 3
   },
   "file_extension": ".py",
   "mimetype": "text/x-python",
   "name": "python",
   "nbconvert_exporter": "python",
   "pygments_lexer": "ipython3",
   "version": "3.7.0"
  }
 },
 "nbformat": 4,
 "nbformat_minor": 2
}
