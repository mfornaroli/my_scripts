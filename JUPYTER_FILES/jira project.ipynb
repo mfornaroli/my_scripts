{
 "cells": [
  {
   "cell_type": "code",
   "execution_count": 2,
   "metadata": {},
   "outputs": [],
   "source": [
    "import pandas as pd\n",
    "# Micron JIRA Data Center 2020-02-13T09_58_09-0700.xlsx\n",
    "df = pd.read_excel(r'C:\\Users\\mfornaroli\\Desktop\\Micron JIRA Data Center 2020-02-13T09_58_09-0700.xlsx')"
   ]
  },
  {
   "cell_type": "code",
   "execution_count": 3,
   "metadata": {},
   "outputs": [
    {
     "data": {
      "text/plain": [
       "(267,)"
      ]
     },
     "execution_count": 3,
     "metadata": {},
     "output_type": "execute_result"
    }
   ],
   "source": [
    "df.columns.shape"
   ]
  },
  {
   "cell_type": "code",
   "execution_count": 4,
   "metadata": {},
   "outputs": [
    {
     "data": {
      "text/plain": [
       "pandas.core.indexes.base.Index"
      ]
     },
     "execution_count": 4,
     "metadata": {},
     "output_type": "execute_result"
    }
   ],
   "source": [
    "type(df.columns.unique())"
   ]
  },
  {
   "cell_type": "code",
   "execution_count": null,
   "metadata": {},
   "outputs": [],
   "source": []
  },
  {
   "cell_type": "code",
   "execution_count": 5,
   "metadata": {},
   "outputs": [
    {
     "name": "stdout",
     "output_type": "stream",
     "text": [
      "CSACCO        130\n",
      "COLIVIER       75\n",
      "MFORNAROLI     74\n",
      "MDARMENT       37\n",
      "SFALDUTI       27\n",
      "ASERGIO        18\n",
      "SARAVILLA       5\n",
      "DPEYRONE        2\n",
      "Name: Reporter, dtype: int64\n"
     ]
    },
    {
     "data": {
      "text/plain": [
       "Text(0.5,1,'number of jira opened by each reporter')"
      ]
     },
     "execution_count": 5,
     "metadata": {},
     "output_type": "execute_result"
    },
    {
     "data": {
      "image/png": "[encoded data removed]",
      "text/plain": [
       "<Figure size 432x288 with 1 Axes>"
      ]
     },
     "metadata": {
      "needs_background": "light"
     },
     "output_type": "display_data"
    }
   ],
   "source": [
    "import matplotlib.pyplot as plt\n",
    "print(df.Reporter.value_counts())\n",
    "df.Reporter.value_counts().plot(kind='bar')\n",
    "plt.title('number of jira opened by each reporter')"
   ]
  },
  {
   "cell_type": "code",
   "execution_count": 6,
   "metadata": {},
   "outputs": [
    {
     "data": {
      "text/html": [
       "<div>\n",
       "<style scoped>\n",
       "    .dataframe tbody tr th:only-of-type {\n",
       "        vertical-align: middle;\n",
       "    }\n",
       "\n",
       "    .dataframe tbody tr th {\n",
       "        vertical-align: top;\n",
       "    }\n",
       "\n",
       "    .dataframe thead th {\n",
       "        text-align: right;\n",
       "    }\n",
       "</style>\n",
       "<table border=\"1\" class=\"dataframe\">\n",
       "  <thead>\n",
       "    <tr style=\"text-align: right;\">\n",
       "      <th></th>\n",
       "      <th>Summary</th>\n",
       "      <th>Issue key</th>\n",
       "      <th>Issue id</th>\n",
       "      <th>Parent id</th>\n",
       "      <th>Issue Type</th>\n",
       "      <th>Status</th>\n",
       "      <th>Project key</th>\n",
       "      <th>Project name</th>\n",
       "      <th>Project type</th>\n",
       "      <th>Project lead</th>\n",
       "      <th>...</th>\n",
       "      <th>Comment.49</th>\n",
       "      <th>Comment.50</th>\n",
       "      <th>Comment.51</th>\n",
       "      <th>Comment.52</th>\n",
       "      <th>Comment.53</th>\n",
       "      <th>Comment.54</th>\n",
       "      <th>Comment.55</th>\n",
       "      <th>Comment.56</th>\n",
       "      <th>Comment.57</th>\n",
       "      <th>Comment.58</th>\n",
       "    </tr>\n",
       "  </thead>\n",
       "  <tbody>\n",
       "    <tr>\n",
       "      <th>0</th>\n",
       "      <td>4x JF9E - VM04819-WOTLC0003  - STEP18 WO  @80d...</td>\n",
       "      <td>MNQRAITA-542</td>\n",
       "      <td>1508629</td>\n",
       "      <td>NaN</td>\n",
       "      <td>Sighting</td>\n",
       "      <td>Closed</td>\n",
       "      <td>MNQRAITA</td>\n",
       "      <td>MNAND QRA ITALY</td>\n",
       "      <td>software</td>\n",
       "      <td>SFALDUTI</td>\n",
       "      <td>...</td>\n",
       "      <td>NaN</td>\n",
       "      <td>NaN</td>\n",
       "      <td>NaN</td>\n",
       "      <td>NaN</td>\n",
       "      <td>NaN</td>\n",
       "      <td>NaN</td>\n",
       "      <td>NaN</td>\n",
       "      <td>NaN</td>\n",
       "      <td>NaN</td>\n",
       "      <td>NaN</td>\n",
       "    </tr>\n",
       "    <tr>\n",
       "      <th>1</th>\n",
       "      <td>INDIGO -J57X- 32GB -KAMA - HTOL - Read TimeOut</td>\n",
       "      <td>MNQRAITA-532</td>\n",
       "      <td>1498760</td>\n",
       "      <td>NaN</td>\n",
       "      <td>Sighting</td>\n",
       "      <td>Closed</td>\n",
       "      <td>MNQRAITA</td>\n",
       "      <td>MNAND QRA ITALY</td>\n",
       "      <td>software</td>\n",
       "      <td>SFALDUTI</td>\n",
       "      <td>...</td>\n",
       "      <td>NaN</td>\n",
       "      <td>NaN</td>\n",
       "      <td>NaN</td>\n",
       "      <td>NaN</td>\n",
       "      <td>NaN</td>\n",
       "      <td>NaN</td>\n",
       "      <td>NaN</td>\n",
       "      <td>NaN</td>\n",
       "      <td>NaN</td>\n",
       "      <td>NaN</td>\n",
       "    </tr>\n",
       "    <tr>\n",
       "      <th>2</th>\n",
       "      <td>1x J57X - VM07719-UM0001  - STEP7 FFU_QP010Q_S...</td>\n",
       "      <td>MNQRAITA-526</td>\n",
       "      <td>1497248</td>\n",
       "      <td>NaN</td>\n",
       "      <td>Sighting</td>\n",
       "      <td>Closed</td>\n",
       "      <td>MNQRAITA</td>\n",
       "      <td>MNAND QRA ITALY</td>\n",
       "      <td>software</td>\n",
       "      <td>SFALDUTI</td>\n",
       "      <td>...</td>\n",
       "      <td>NaN</td>\n",
       "      <td>NaN</td>\n",
       "      <td>NaN</td>\n",
       "      <td>NaN</td>\n",
       "      <td>NaN</td>\n",
       "      <td>NaN</td>\n",
       "      <td>NaN</td>\n",
       "      <td>NaN</td>\n",
       "      <td>NaN</td>\n",
       "      <td>NaN</td>\n",
       "    </tr>\n",
       "    <tr>\n",
       "      <th>3</th>\n",
       "      <td>1x J56X - VM07519-UM0001  - STEP7 FFU_QP010Q_S...</td>\n",
       "      <td>MNQRAITA-525</td>\n",
       "      <td>1497247</td>\n",
       "      <td>NaN</td>\n",
       "      <td>Sighting</td>\n",
       "      <td>Closed</td>\n",
       "      <td>MNQRAITA</td>\n",
       "      <td>MNAND QRA ITALY</td>\n",
       "      <td>software</td>\n",
       "      <td>SFALDUTI</td>\n",
       "      <td>...</td>\n",
       "      <td>NaN</td>\n",
       "      <td>NaN</td>\n",
       "      <td>NaN</td>\n",
       "      <td>NaN</td>\n",
       "      <td>NaN</td>\n",
       "      <td>NaN</td>\n",
       "      <td>NaN</td>\n",
       "      <td>NaN</td>\n",
       "      <td>NaN</td>\n",
       "      <td>NaN</td>\n",
       "    </tr>\n",
       "    <tr>\n",
       "      <th>4</th>\n",
       "      <td>INDIGO -J57X- 32GB -KAMA - HTOL -Write Fail</td>\n",
       "      <td>MNQRAITA-523</td>\n",
       "      <td>1495538</td>\n",
       "      <td>NaN</td>\n",
       "      <td>Sighting</td>\n",
       "      <td>Closed</td>\n",
       "      <td>MNQRAITA</td>\n",
       "      <td>MNAND QRA ITALY</td>\n",
       "      <td>software</td>\n",
       "      <td>SFALDUTI</td>\n",
       "      <td>...</td>\n",
       "      <td>NaN</td>\n",
       "      <td>NaN</td>\n",
       "      <td>NaN</td>\n",
       "      <td>NaN</td>\n",
       "      <td>NaN</td>\n",
       "      <td>NaN</td>\n",
       "      <td>NaN</td>\n",
       "      <td>NaN</td>\n",
       "      <td>NaN</td>\n",
       "      <td>NaN</td>\n",
       "    </tr>\n",
       "  </tbody>\n",
       "</table>\n",
       "<p>5 rows × 267 columns</p>\n",
       "</div>"
      ],
      "text/plain": [
       "                                             Summary     Issue key  Issue id  \\\n",
       "0  4x JF9E - VM04819-WOTLC0003  - STEP18 WO  @80d...  MNQRAITA-542   1508629   \n",
       "1     INDIGO -J57X- 32GB -KAMA - HTOL - Read TimeOut  MNQRAITA-532   1498760   \n",
       "2  1x J57X - VM07719-UM0001  - STEP7 FFU_QP010Q_S...  MNQRAITA-526   1497248   \n",
       "3  1x J56X - VM07519-UM0001  - STEP7 FFU_QP010Q_S...  MNQRAITA-525   1497247   \n",
       "4        INDIGO -J57X- 32GB -KAMA - HTOL -Write Fail  MNQRAITA-523   1495538   \n",
       "\n",
       "   Parent id Issue Type  Status Project key     Project name Project type  \\\n",
       "0        NaN   Sighting  Closed    MNQRAITA  MNAND QRA ITALY     software   \n",
       "1        NaN   Sighting  Closed    MNQRAITA  MNAND QRA ITALY     software   \n",
       "2        NaN   Sighting  Closed    MNQRAITA  MNAND QRA ITALY     software   \n",
       "3        NaN   Sighting  Closed    MNQRAITA  MNAND QRA ITALY     software   \n",
       "4        NaN   Sighting  Closed    MNQRAITA  MNAND QRA ITALY     software   \n",
       "\n",
       "  Project lead  ... Comment.49  Comment.50 Comment.51 Comment.52 Comment.53  \\\n",
       "0     SFALDUTI  ...        NaN         NaN        NaN        NaN        NaN   \n",
       "1     SFALDUTI  ...        NaN         NaN        NaN        NaN        NaN   \n",
       "2     SFALDUTI  ...        NaN         NaN        NaN        NaN        NaN   \n",
       "3     SFALDUTI  ...        NaN         NaN        NaN        NaN        NaN   \n",
       "4     SFALDUTI  ...        NaN         NaN        NaN        NaN        NaN   \n",
       "\n",
       "  Comment.54 Comment.55 Comment.56 Comment.57 Comment.58  \n",
       "0        NaN        NaN        NaN        NaN        NaN  \n",
       "1        NaN        NaN        NaN        NaN        NaN  \n",
       "2        NaN        NaN        NaN        NaN        NaN  \n",
       "3        NaN        NaN        NaN        NaN        NaN  \n",
       "4        NaN        NaN        NaN        NaN        NaN  \n",
       "\n",
       "[5 rows x 267 columns]"
      ]
     },
     "execution_count": 6,
     "metadata": {},
     "output_type": "execute_result"
    }
   ],
   "source": [
    "df.head()"
   ]
  },
  {
   "cell_type": "code",
   "execution_count": 7,
   "metadata": {
    "collapsed": true
   },
   "outputs": [
    {
     "data": {
      "text/plain": [
       "['Summary',\n",
       " 'Issue key',\n",
       " 'Issue id',\n",
       " 'Parent id',\n",
       " 'Issue Type',\n",
       " 'Status',\n",
       " 'Project key',\n",
       " 'Project name',\n",
       " 'Project type',\n",
       " 'Project lead',\n",
       " 'Project description',\n",
       " 'Project url',\n",
       " 'Priority',\n",
       " 'Resolution',\n",
       " 'Assignee',\n",
       " 'Reporter',\n",
       " 'Creator',\n",
       " 'Created',\n",
       " 'Updated',\n",
       " 'Last Viewed',\n",
       " 'Resolved',\n",
       " 'Component/s',\n",
       " 'Due Date',\n",
       " 'Votes',\n",
       " 'Labels',\n",
       " 'Labels.1',\n",
       " 'Description',\n",
       " 'Watchers',\n",
       " 'Watchers.1',\n",
       " 'Watchers.2',\n",
       " 'Watchers.3',\n",
       " 'Watchers.4',\n",
       " 'Watchers.5',\n",
       " 'Watchers.6',\n",
       " 'Watchers.7',\n",
       " 'Watchers.8',\n",
       " 'Watchers.9',\n",
       " 'Watchers.10',\n",
       " 'Watchers.11',\n",
       " 'Watchers.12',\n",
       " 'Watchers.13',\n",
       " 'Watchers.14',\n",
       " 'Watchers.15',\n",
       " 'Watchers.16',\n",
       " 'Watchers.17',\n",
       " 'Watchers.18',\n",
       " 'Watchers.19',\n",
       " 'Watchers.20',\n",
       " 'Watchers.21',\n",
       " 'Original Estimate',\n",
       " 'Remaining Estimate',\n",
       " 'Time Spent',\n",
       " 'Work Ratio',\n",
       " 'Î£ Original Estimate',\n",
       " 'Î£ Remaining Estimate',\n",
       " 'Î£ Time Spent',\n",
       " 'Outward issue link (Blocks)',\n",
       " 'Outward issue link (Blocks).1',\n",
       " 'Outward issue link (Blocks).2',\n",
       " 'Outward issue link (Blocks).3',\n",
       " 'Outward issue link (Cloners)',\n",
       " 'Outward issue link (Cloners).1',\n",
       " 'Outward issue link (Cloners).2',\n",
       " 'Outward issue link (Cloners).3',\n",
       " 'Outward issue link (Cloners).4',\n",
       " 'Outward issue link (Coverage)',\n",
       " 'Outward issue link (Coverage).1',\n",
       " 'Outward issue link (Coverage).2',\n",
       " 'Outward issue link (Coverage).3',\n",
       " 'Outward issue link (Coverage).4',\n",
       " 'Outward issue link (Coverage).5',\n",
       " 'Outward issue link (Coverage).6',\n",
       " 'Outward issue link (Coverage).7',\n",
       " 'Outward issue link (Coverage).8',\n",
       " 'Outward issue link (Coverage).9',\n",
       " 'Outward issue link (Coverage).10',\n",
       " 'Outward issue link (Coverage).11',\n",
       " 'Outward issue link (Coverage).12',\n",
       " 'Outward issue link (Coverage).13',\n",
       " 'Outward issue link (Coverage).14',\n",
       " 'Outward issue link (Coverage).15',\n",
       " 'Outward issue link (Coverage).16',\n",
       " 'Outward issue link (Coverage).17',\n",
       " 'Outward issue link (Coverage).18',\n",
       " 'Outward issue link (Coverage).19',\n",
       " 'Outward issue link (Coverage).20',\n",
       " 'Outward issue link (Escalation)',\n",
       " 'Outward issue link (Issue split)',\n",
       " 'Outward issue link (Issue split).1',\n",
       " 'Outward issue link (Issue split).2',\n",
       " 'Outward issue link (Issue split).3',\n",
       " 'Outward issue link (Relates)',\n",
       " 'Outward issue link (Relates).1',\n",
       " 'Outward issue link (Test Link)',\n",
       " 'Attachment',\n",
       " 'Attachment.1',\n",
       " 'Attachment.2',\n",
       " 'Attachment.3',\n",
       " 'Attachment.4',\n",
       " 'Attachment.5',\n",
       " 'Attachment.6',\n",
       " 'Attachment.7',\n",
       " 'Attachment.8',\n",
       " 'Attachment.9',\n",
       " 'Attachment.10',\n",
       " 'Attachment.11',\n",
       " 'Attachment.12',\n",
       " 'Attachment.13',\n",
       " 'Attachment.14',\n",
       " 'Attachment.15',\n",
       " 'Attachment.16',\n",
       " 'Attachment.17',\n",
       " 'Attachment.18',\n",
       " 'Attachment.19',\n",
       " 'Attachment.20',\n",
       " 'Attachment.21',\n",
       " 'Attachment.22',\n",
       " 'Attachment.23',\n",
       " 'Attachment.24',\n",
       " 'Attachment.25',\n",
       " 'Attachment.26',\n",
       " 'Attachment.27',\n",
       " 'Attachment.28',\n",
       " 'Attachment.29',\n",
       " 'Attachment.30',\n",
       " 'Attachment.31',\n",
       " 'Attachment.32',\n",
       " 'Attachment.33',\n",
       " 'Attachment.34',\n",
       " 'Attachment.35',\n",
       " 'Attachment.36',\n",
       " 'Attachment.37',\n",
       " 'Attachment.38',\n",
       " 'Attachment.39',\n",
       " 'Attachment.40',\n",
       " 'Attachment.41',\n",
       " 'Attachment.42',\n",
       " 'Attachment.43',\n",
       " 'Attachment.44',\n",
       " 'Attachment.45',\n",
       " 'Attachment.46',\n",
       " 'Attachment.47',\n",
       " 'Attachment.48',\n",
       " 'Attachment.49',\n",
       " 'Custom field (#Where found)',\n",
       " 'Custom field (*Corrective action)',\n",
       " 'Root_cause',\n",
       " 'Custom field (Blocked Reason)',\n",
       " 'Custom field (Categorization)',\n",
       " 'Custom field (Closed Date)',\n",
       " 'Custom field (Component Watchers)',\n",
       " 'Custom field (Component Watchers).1',\n",
       " 'Custom field (Component Watchers).2',\n",
       " 'Custom field (Component Watchers).3',\n",
       " 'Custom field (Component Watchers).4',\n",
       " 'Custom field (Component Watchers).5',\n",
       " 'Custom field (Component Watchers).6',\n",
       " 'Custom field (Component Watchers).7',\n",
       " 'Customer Request Type',\n",
       " 'Custom field (Epic Color)',\n",
       " 'Custom field (Epic Link)',\n",
       " 'Custom field (Epic Name)',\n",
       " 'Custom field (Epic Status)',\n",
       " 'Custom field (External Ref Number/s)',\n",
       " 'Custom field (Group Watch List)',\n",
       " 'Custom field (Last Comment)',\n",
       " 'Custom field (Next Action)',\n",
       " 'Custom field (On Hold)',\n",
       " 'Custom field (Original story points)',\n",
       " 'Custom field (Parent Link)',\n",
       " 'products affected',\n",
       " 'Custom field (Rank)',\n",
       " 'Custom field (Rank (Obsolete))',\n",
       " 'Custom field (Request participants)',\n",
       " 'Custom field (SFDC Case Reference)',\n",
       " 'Satisfaction score (out of 5)',\n",
       " 'Custom field (Steps to Reproduce)',\n",
       " 'Custom field (Story Points)',\n",
       " 'Custom field (Target end)',\n",
       " 'Custom field (Target start)',\n",
       " 'Custom field (Team)',\n",
       " 'Time to first response',\n",
       " 'Time to first response simplified',\n",
       " 'Time to resolution',\n",
       " 'Time to resolution simplified',\n",
       " 'Custom field (Verification Details)',\n",
       " 'Custom field (Watchers)',\n",
       " 'Custom field (Watchers).1',\n",
       " 'Custom field (Watchers).2',\n",
       " 'Custom field (Watchers).3',\n",
       " 'Custom field (Watchers).4',\n",
       " 'Custom field (Watchers).5',\n",
       " 'Custom field (Watchers).6',\n",
       " 'Custom field (Watchers).7',\n",
       " 'Custom field (Watchers).8',\n",
       " 'Custom field (Watchers).9',\n",
       " 'Custom field (Watchers).10',\n",
       " 'Custom field (Watchers).11',\n",
       " 'Custom field (Watchers).12',\n",
       " 'Custom field (Watchers).13',\n",
       " 'Custom field (Watchers).14',\n",
       " 'Custom field (Watchers).15',\n",
       " 'Custom field (Watchers).16',\n",
       " 'Custom field (Watchers).17',\n",
       " 'Custom field (Watchers).18',\n",
       " 'Custom field (Watchers).19',\n",
       " 'Custom field (Watchers).20',\n",
       " 'Custom field (Watchers).21',\n",
       " 'Comment',\n",
       " 'Comment.1',\n",
       " 'Comment.2',\n",
       " 'Comment.3',\n",
       " 'Comment.4',\n",
       " 'Comment.5',\n",
       " 'Comment.6',\n",
       " 'Comment.7',\n",
       " 'Comment.8',\n",
       " 'Comment.9',\n",
       " 'Comment.10',\n",
       " 'Comment.11',\n",
       " 'Comment.12',\n",
       " 'Comment.13',\n",
       " 'Comment.14',\n",
       " 'Comment.15',\n",
       " 'Comment.16',\n",
       " 'Comment.17',\n",
       " 'Comment.18',\n",
       " 'Comment.19',\n",
       " 'Comment.20',\n",
       " 'Comment.21',\n",
       " 'Comment.22',\n",
       " 'Comment.23',\n",
       " 'Comment.24',\n",
       " 'Comment.25',\n",
       " 'Comment.26',\n",
       " 'Comment.27',\n",
       " 'Comment.28',\n",
       " 'Comment.29',\n",
       " 'Comment.30',\n",
       " 'Comment.31',\n",
       " 'Comment.32',\n",
       " 'Comment.33',\n",
       " 'Comment.34',\n",
       " 'Comment.35',\n",
       " 'Comment.36',\n",
       " 'Comment.37',\n",
       " 'Comment.38',\n",
       " 'Comment.39',\n",
       " 'Comment.40',\n",
       " 'Comment.41',\n",
       " 'Comment.42',\n",
       " 'Comment.43',\n",
       " 'Comment.44',\n",
       " 'Comment.45',\n",
       " 'Comment.46',\n",
       " 'Comment.47',\n",
       " 'Comment.48',\n",
       " 'Comment.49',\n",
       " 'Comment.50',\n",
       " 'Comment.51',\n",
       " 'Comment.52',\n",
       " 'Comment.53',\n",
       " 'Comment.54',\n",
       " 'Comment.55',\n",
       " 'Comment.56',\n",
       " 'Comment.57',\n",
       " 'Comment.58']"
      ]
     },
     "execution_count": 7,
     "metadata": {},
     "output_type": "execute_result"
    }
   ],
   "source": [
    "list(df.columns)"
   ]
  },
  {
   "cell_type": "code",
   "execution_count": 13,
   "metadata": {},
   "outputs": [],
   "source": [
    "df_rid = df[[\"Reporter\", \"Description\"]]"
   ]
  },
  {
   "cell_type": "code",
   "execution_count": 31,
   "metadata": {},
   "outputs": [],
   "source": [
    "# for i in range(df_rid.shape[0]):\n",
    "sum_counter_dictionary = {}\n",
    "num_item_counter_dictionary = {}\n",
    "for i in range(df_rid.shape[0]):\n",
    "#     print(df_rid.iloc[i,:]['Reporter'])\n",
    "    reporter_id = df_rid.iloc[i,:]['Reporter']\n",
    "    description_lenght = len(str(df_rid.iloc[i,:]['Description']))\n",
    "    if reporter_id in sum_counter_dictionary:\n",
    "        sum_counter_dictionary[reporter_id] += description_lenght\n",
    "        num_item_counter_dictionary[reporter_id] += 1\n",
    "    else:\n",
    "        sum_counter_dictionary[reporter_id] = description_lenght\n",
    "        num_item_counter_dictionary[reporter_id] = 1\n",
    "        \n"
   ]
  },
  {
   "cell_type": "code",
   "execution_count": 32,
   "metadata": {},
   "outputs": [
    {
     "data": {
      "text/plain": [
       "{'MDARMENT': 37,\n",
       " 'COLIVIER': 75,\n",
       " 'CSACCO': 130,\n",
       " 'ASERGIO': 18,\n",
       " 'MFORNAROLI': 74,\n",
       " 'SFALDUTI': 27,\n",
       " 'SARAVILLA': 5,\n",
       " 'DPEYRONE': 2}"
      ]
     },
     "execution_count": 32,
     "metadata": {},
     "output_type": "execute_result"
    }
   ],
   "source": [
    "num_item_counter_dictionary"
   ]
  },
  {
   "cell_type": "code",
   "execution_count": 33,
   "metadata": {},
   "outputs": [
    {
     "data": {
      "text/plain": [
       "{'MDARMENT': 11882,\n",
       " 'COLIVIER': 31115,\n",
       " 'CSACCO': 43419,\n",
       " 'ASERGIO': 14604,\n",
       " 'MFORNAROLI': 34575,\n",
       " 'SFALDUTI': 9816,\n",
       " 'SARAVILLA': 1296,\n",
       " 'DPEYRONE': 198}"
      ]
     },
     "execution_count": 33,
     "metadata": {},
     "output_type": "execute_result"
    }
   ],
   "source": [
    "sum_counter_dictionary"
   ]
  },
  {
   "cell_type": "code",
   "execution_count": 38,
   "metadata": {},
   "outputs": [],
   "source": [
    "avg_descr_lenght_dictionary = {reporter: sum_counter_dictionary[reporter]/num_item_counter_dictionary[reporter] for reporter in sum_counter_dictionary}"
   ]
  },
  {
   "cell_type": "code",
   "execution_count": 39,
   "metadata": {},
   "outputs": [
    {
     "data": {
      "text/plain": [
       "{'MDARMENT': 321.13513513513516,\n",
       " 'COLIVIER': 414.8666666666667,\n",
       " 'CSACCO': 333.9923076923077,\n",
       " 'ASERGIO': 811.3333333333334,\n",
       " 'MFORNAROLI': 467.22972972972974,\n",
       " 'SFALDUTI': 363.55555555555554,\n",
       " 'SARAVILLA': 259.2,\n",
       " 'DPEYRONE': 99.0}"
      ]
     },
     "execution_count": 39,
     "metadata": {},
     "output_type": "execute_result"
    }
   ],
   "source": [
    "avg_descr_lenght_dictionary"
   ]
  },
  {
   "cell_type": "code",
   "execution_count": 48,
   "metadata": {},
   "outputs": [
    {
     "data": {
      "text/plain": [
       "([0, 1, 2, 3, 4, 5, 6, 7], <a list of 8 Text xticklabel objects>)"
      ]
     },
     "execution_count": 48,
     "metadata": {},
     "output_type": "execute_result"
    },
    {
     "data": {
      "image/png": "[encoded data removed]",
      "text/plain": [
       "<Figure size 432x288 with 1 Axes>"
      ]
     },
     "metadata": {
      "needs_background": "light"
     },
     "output_type": "display_data"
    }
   ],
   "source": [
    "import matplotlib.pyplot as plt\n",
    "plt.bar([key for key in avg_descr_lenght_dictionary], [avg_descr_lenght_dictionary[key] for key in avg_descr_lenght_dictionary])\n",
    "plt.xticks(rotation=45)"
   ]
  },
  {
   "cell_type": "code",
   "execution_count": null,
   "metadata": {},
   "outputs": [],
   "source": []
  },
  {
   "cell_type": "code",
   "execution_count": null,
   "metadata": {},
   "outputs": [],
   "source": []
  },
  {
   "cell_type": "code",
   "execution_count": null,
   "metadata": {},
   "outputs": [],
   "source": []
  }
 ],
 "metadata": {
  "kernelspec": {
   "display_name": "Python 3",
   "language": "python",
   "name": "python3"
  },
  "language_info": {
   "codemirror_mode": {
    "name": "ipython",
    "version": 3
   },
   "file_extension": ".py",
   "mimetype": "text/x-python",
   "name": "python",
   "nbconvert_exporter": "python",
   "pygments_lexer": "ipython3",
   "version": "3.7.0"
  }
 },
 "nbformat": 4,
 "nbformat_minor": 2
}
