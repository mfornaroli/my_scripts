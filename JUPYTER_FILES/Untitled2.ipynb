{
 "cells": [
  {
   "cell_type": "code",
   "execution_count": 1,
   "metadata": {},
   "outputs": [],
   "source": [
    "import pandas as pd"
   ]
  },
  {
   "cell_type": "code",
   "execution_count": 2,
   "metadata": {},
   "outputs": [],
   "source": [
    "df = pd.read_csv(r\"U:\\users\\forna\\SAPPHIRE_PS8226_PHY_B16A_J38D_WAVE1_NVTLC0003_65_ALLBER.csv\")"
   ]
  },
  {
   "cell_type": "code",
   "execution_count": 3,
   "metadata": {},
   "outputs": [
    {
     "data": {
      "text/html": [
       "<div>\n",
       "<style scoped>\n",
       "    .dataframe tbody tr th:only-of-type {\n",
       "        vertical-align: middle;\n",
       "    }\n",
       "\n",
       "    .dataframe tbody tr th {\n",
       "        vertical-align: top;\n",
       "    }\n",
       "\n",
       "    .dataframe thead th {\n",
       "        text-align: right;\n",
       "    }\n",
       "</style>\n",
       "<table border=\"1\" class=\"dataframe\">\n",
       "  <thead>\n",
       "    <tr style=\"text-align: right;\">\n",
       "      <th></th>\n",
       "      <th>CASE</th>\n",
       "      <th>CYCLE</th>\n",
       "      <th>UNIT</th>\n",
       "      <th>BLK</th>\n",
       "      <th>PAGE</th>\n",
       "      <th>FAIL_BITS</th>\n",
       "      <th>READ_RETRY_INDEX</th>\n",
       "      <th>RR_STAGE</th>\n",
       "      <th>RER_RES</th>\n",
       "    </tr>\n",
       "  </thead>\n",
       "  <tbody>\n",
       "    <tr>\n",
       "      <th>0</th>\n",
       "      <td>TLC_almost_full_10%_as_TLC_Partial</td>\n",
       "      <td>0</td>\n",
       "      <td>0119371:19:P03:37</td>\n",
       "      <td>130</td>\n",
       "      <td>0</td>\n",
       "      <td>0</td>\n",
       "      <td>0</td>\n",
       "      <td>0</td>\n",
       "      <td>0</td>\n",
       "    </tr>\n",
       "    <tr>\n",
       "      <th>1</th>\n",
       "      <td>TLC_almost_full_10%_as_TLC_Partial</td>\n",
       "      <td>0</td>\n",
       "      <td>0119371:19:P03:37</td>\n",
       "      <td>131</td>\n",
       "      <td>0</td>\n",
       "      <td>0</td>\n",
       "      <td>0</td>\n",
       "      <td>0</td>\n",
       "      <td>0</td>\n",
       "    </tr>\n",
       "    <tr>\n",
       "      <th>2</th>\n",
       "      <td>TLC_almost_full_10%_as_TLC_Partial</td>\n",
       "      <td>0</td>\n",
       "      <td>0119371:19:P02:37</td>\n",
       "      <td>130</td>\n",
       "      <td>0</td>\n",
       "      <td>0</td>\n",
       "      <td>0</td>\n",
       "      <td>0</td>\n",
       "      <td>0</td>\n",
       "    </tr>\n",
       "    <tr>\n",
       "      <th>3</th>\n",
       "      <td>TLC_almost_full_10%_as_TLC_Partial</td>\n",
       "      <td>0</td>\n",
       "      <td>0119371:19:P02:37</td>\n",
       "      <td>131</td>\n",
       "      <td>0</td>\n",
       "      <td>0</td>\n",
       "      <td>0</td>\n",
       "      <td>0</td>\n",
       "      <td>0</td>\n",
       "    </tr>\n",
       "    <tr>\n",
       "      <th>4</th>\n",
       "      <td>TLC_almost_full_10%_as_TLC_Partial</td>\n",
       "      <td>0</td>\n",
       "      <td>0119371:19:P03:37</td>\n",
       "      <td>130</td>\n",
       "      <td>1</td>\n",
       "      <td>0</td>\n",
       "      <td>0</td>\n",
       "      <td>0</td>\n",
       "      <td>0</td>\n",
       "    </tr>\n",
       "  </tbody>\n",
       "</table>\n",
       "</div>"
      ],
      "text/plain": [
       "                                 CASE   CYCLE                UNIT   BLK  \\\n",
       "0  TLC_almost_full_10%_as_TLC_Partial       0   0119371:19:P03:37   130   \n",
       "1  TLC_almost_full_10%_as_TLC_Partial       0   0119371:19:P03:37   131   \n",
       "2  TLC_almost_full_10%_as_TLC_Partial       0   0119371:19:P02:37   130   \n",
       "3  TLC_almost_full_10%_as_TLC_Partial       0   0119371:19:P02:37   131   \n",
       "4  TLC_almost_full_10%_as_TLC_Partial       0   0119371:19:P03:37   130   \n",
       "\n",
       "    PAGE   FAIL_BITS   READ_RETRY_INDEX   RR_STAGE   RER_RES  \n",
       "0      0           0                  0          0         0  \n",
       "1      0           0                  0          0         0  \n",
       "2      0           0                  0          0         0  \n",
       "3      0           0                  0          0         0  \n",
       "4      1           0                  0          0         0  "
      ]
     },
     "execution_count": 3,
     "metadata": {},
     "output_type": "execute_result"
    }
   ],
   "source": [
    "df.head()"
   ]
  },
  {
   "cell_type": "code",
   "execution_count": 4,
   "metadata": {},
   "outputs": [
    {
     "data": {
      "text/plain": [
       "Index(['CASE', ' CYCLE', ' UNIT', ' BLK', ' PAGE', ' FAIL_BITS',\n",
       "       ' READ_RETRY_INDEX', ' RR_STAGE', ' RER_RES'],\n",
       "      dtype='object')"
      ]
     },
     "execution_count": 4,
     "metadata": {},
     "output_type": "execute_result"
    }
   ],
   "source": [
    "df.columns"
   ]
  },
  {
   "cell_type": "code",
   "execution_count": 7,
   "metadata": {},
   "outputs": [],
   "source": [
    "df.drop([' READ_RETRY_INDEX', ' RR_STAGE', ' RER_RES'], axis=1, inplace=True)"
   ]
  },
  {
   "cell_type": "code",
   "execution_count": 8,
   "metadata": {},
   "outputs": [
    {
     "data": {
      "text/html": [
       "<div>\n",
       "<style scoped>\n",
       "    .dataframe tbody tr th:only-of-type {\n",
       "        vertical-align: middle;\n",
       "    }\n",
       "\n",
       "    .dataframe tbody tr th {\n",
       "        vertical-align: top;\n",
       "    }\n",
       "\n",
       "    .dataframe thead th {\n",
       "        text-align: right;\n",
       "    }\n",
       "</style>\n",
       "<table border=\"1\" class=\"dataframe\">\n",
       "  <thead>\n",
       "    <tr style=\"text-align: right;\">\n",
       "      <th></th>\n",
       "      <th>CASE</th>\n",
       "      <th>CYCLE</th>\n",
       "      <th>UNIT</th>\n",
       "      <th>BLK</th>\n",
       "      <th>PAGE</th>\n",
       "      <th>FAIL_BITS</th>\n",
       "    </tr>\n",
       "  </thead>\n",
       "  <tbody>\n",
       "    <tr>\n",
       "      <th>0</th>\n",
       "      <td>TLC_almost_full_10%_as_TLC_Partial</td>\n",
       "      <td>0</td>\n",
       "      <td>0119371:19:P03:37</td>\n",
       "      <td>130</td>\n",
       "      <td>0</td>\n",
       "      <td>0</td>\n",
       "    </tr>\n",
       "    <tr>\n",
       "      <th>1</th>\n",
       "      <td>TLC_almost_full_10%_as_TLC_Partial</td>\n",
       "      <td>0</td>\n",
       "      <td>0119371:19:P03:37</td>\n",
       "      <td>131</td>\n",
       "      <td>0</td>\n",
       "      <td>0</td>\n",
       "    </tr>\n",
       "    <tr>\n",
       "      <th>2</th>\n",
       "      <td>TLC_almost_full_10%_as_TLC_Partial</td>\n",
       "      <td>0</td>\n",
       "      <td>0119371:19:P02:37</td>\n",
       "      <td>130</td>\n",
       "      <td>0</td>\n",
       "      <td>0</td>\n",
       "    </tr>\n",
       "    <tr>\n",
       "      <th>3</th>\n",
       "      <td>TLC_almost_full_10%_as_TLC_Partial</td>\n",
       "      <td>0</td>\n",
       "      <td>0119371:19:P02:37</td>\n",
       "      <td>131</td>\n",
       "      <td>0</td>\n",
       "      <td>0</td>\n",
       "    </tr>\n",
       "    <tr>\n",
       "      <th>4</th>\n",
       "      <td>TLC_almost_full_10%_as_TLC_Partial</td>\n",
       "      <td>0</td>\n",
       "      <td>0119371:19:P03:37</td>\n",
       "      <td>130</td>\n",
       "      <td>1</td>\n",
       "      <td>0</td>\n",
       "    </tr>\n",
       "  </tbody>\n",
       "</table>\n",
       "</div>"
      ],
      "text/plain": [
       "                                 CASE   CYCLE                UNIT   BLK  \\\n",
       "0  TLC_almost_full_10%_as_TLC_Partial       0   0119371:19:P03:37   130   \n",
       "1  TLC_almost_full_10%_as_TLC_Partial       0   0119371:19:P03:37   131   \n",
       "2  TLC_almost_full_10%_as_TLC_Partial       0   0119371:19:P02:37   130   \n",
       "3  TLC_almost_full_10%_as_TLC_Partial       0   0119371:19:P02:37   131   \n",
       "4  TLC_almost_full_10%_as_TLC_Partial       0   0119371:19:P03:37   130   \n",
       "\n",
       "    PAGE   FAIL_BITS  \n",
       "0      0           0  \n",
       "1      0           0  \n",
       "2      0           0  \n",
       "3      0           0  \n",
       "4      1           0  "
      ]
     },
     "execution_count": 8,
     "metadata": {},
     "output_type": "execute_result"
    }
   ],
   "source": [
    "df.head()"
   ]
  },
  {
   "cell_type": "code",
   "execution_count": null,
   "metadata": {},
   "outputs": [],
   "source": []
  }
 ],
 "metadata": {
  "kernelspec": {
   "display_name": "Python 3",
   "language": "python",
   "name": "python3"
  },
  "language_info": {
   "codemirror_mode": {
    "name": "ipython",
    "version": 3
   },
   "file_extension": ".py",
   "mimetype": "text/x-python",
   "name": "python",
   "nbconvert_exporter": "python",
   "pygments_lexer": "ipython3",
   "version": "3.7.0"
  }
 },
 "nbformat": 4,
 "nbformat_minor": 2
}
